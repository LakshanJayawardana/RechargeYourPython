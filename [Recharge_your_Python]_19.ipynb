{
  "nbformat": 4,
  "nbformat_minor": 0,
  "metadata": {
    "colab": {
      "provenance": [],
      "authorship_tag": "ABX9TyO/PBFt5Ebfu2jaIDzlbXOi",
      "include_colab_link": true
    },
    "kernelspec": {
      "name": "python3",
      "display_name": "Python 3"
    },
    "language_info": {
      "name": "python"
    }
  },
  "cells": [
    {
      "cell_type": "markdown",
      "metadata": {
        "id": "view-in-github",
        "colab_type": "text"
      },
      "source": [
        "<a href=\"https://colab.research.google.com/github/LakshanJayawardana/RechargeYourPython/blob/Recharge-your-Python%5D-%2319/%5BRecharge_your_Python%5D_19.ipynb\" target=\"_parent\"><img src=\"https://colab.research.google.com/assets/colab-badge.svg\" alt=\"Open In Colab\"/></a>"
      ]
    },
    {
      "cell_type": "code",
      "execution_count": 3,
      "metadata": {
        "id": "tmJzcJnK5i48",
        "colab": {
          "base_uri": "https://localhost:8080/"
        },
        "outputId": "de5d3b7c-906a-43db-96e4-91f085a844c3"
      },
      "outputs": [
        {
          "output_type": "stream",
          "name": "stdout",
          "text": [
            "                  Time    ID Code\n",
            "0  2023-05-10 16:02:11  1001  ECA\n",
            "1  2023-05-10 16:02:22  1002  DEA\n",
            "2  2023-05-10 16:02:33  1003  AEB\n",
            "3  2023-05-10 16:02:49  1004  DCB\n",
            "4  2023-05-10 16:03:01  1005  DDC\n"
          ]
        }
      ],
      "source": [
        "from pydrive.auth import GoogleAuth\n",
        "from pydrive.drive import GoogleDrive\n",
        "from google.colab import auth\n",
        "from oauth2client.client import GoogleCredentials\n",
        "import pandas as pd\n",
        "\n",
        "auth.authenticate_user()\n",
        "\n",
        "gauth = GoogleAuth()\n",
        "gauth.credentials = GoogleCredentials.get_application_default()\n",
        "drive = GoogleDrive(gauth)\n",
        "\n",
        "link = 'https://drive.google.com/file/d/11cKCh-ifx-zsNiYjv1mEb9wCRp3PtvKq/view?usp=sharing'\n",
        "\n",
        "id = link.split(\"/\")[-2]\n",
        "\n",
        "downloaded = drive.CreateFile({'id':id})\n",
        "downloaded.GetContentFile('data19.csv') \n",
        "\n",
        "df = pd.read_csv('data19.csv')\n",
        "print(df.head())\n"
      ]
    },
    {
      "cell_type": "markdown",
      "source": [
        "1. What is the ID of the last occurence of ABC in the third column?"
      ],
      "metadata": {
        "id": "KXrDqHjq6urZ"
      }
    },
    {
      "cell_type": "code",
      "source": [
        "df = df.sort_values(by='Time', ascending=True)\n",
        "last_occurrence = df.loc[df['Code'] == 'ABC'].iloc[-1]\n",
        "id = last_occurrence['ID']\n",
        "\n",
        "print(f\" ID of the last occurence of ABC : \",id)"
      ],
      "metadata": {
        "id": "_OOQtM215xbD",
        "colab": {
          "base_uri": "https://localhost:8080/"
        },
        "outputId": "751a49bc-b75d-4d04-de58-f19b9cb49cf6"
      },
      "execution_count": 4,
      "outputs": [
        {
          "output_type": "stream",
          "name": "stdout",
          "text": [
            " ID of the last occurence of ABC :  1818\n"
          ]
        }
      ]
    },
    {
      "cell_type": "markdown",
      "source": [
        "2. What is the maximum time span (number of seconds) between the two subsequent events?"
      ],
      "metadata": {
        "id": "iGuiEiDD628P"
      }
    },
    {
      "cell_type": "code",
      "source": [
        "df['Time'] = pd.to_datetime(df['Time'])\n",
        "df = df.sort_values(by='Time')\n",
        "time_diff = df['Time'].diff().dt.total_seconds()\n",
        "max_time_span = time_diff.max()\n",
        "\n",
        "print(\"Maximum time span (in seconds) between two subsequent events:\", max_time_span)"
      ],
      "metadata": {
        "colab": {
          "base_uri": "https://localhost:8080/"
        },
        "id": "FxzHLOnB6zNZ",
        "outputId": "39945718-cd4d-4c4d-b07d-f95e0d87c435"
      },
      "execution_count": 5,
      "outputs": [
        {
          "output_type": "stream",
          "name": "stdout",
          "text": [
            "Maximum time span (in seconds) between two subsequent events: 18.0\n"
          ]
        }
      ]
    },
    {
      "cell_type": "markdown",
      "source": [
        "3. The third column contains all possible combinations of length 3 of letters from {A,B,C,D,E} except one. Which combination is missing?"
      ],
      "metadata": {
        "id": "P_kWk-Nt7Yvc"
      }
    },
    {
      "cell_type": "code",
      "source": [
        "import itertools\n",
        "\n",
        "letters = ['A', 'B', 'C', 'D', 'E']\n",
        "combinations = list(itertools.combinations(letters, 3))\n",
        "print(combinations)\n",
        "\n",
        "codes = df['Code'].unique()\n",
        "\n",
        "missing_combinations = []\n",
        "for comb in combinations:\n",
        "    if ''.join(comb) not in codes:\n",
        "        missing_combinations.append(comb)\n",
        "\n",
        "print('Missing combinations:', missing_combinations)"
      ],
      "metadata": {
        "colab": {
          "base_uri": "https://localhost:8080/"
        },
        "id": "ypc7MkXn7TZX",
        "outputId": "20dbf2f5-7095-426f-c2fc-0e6dd414eaae"
      },
      "execution_count": 7,
      "outputs": [
        {
          "output_type": "stream",
          "name": "stdout",
          "text": [
            "[('A', 'B', 'C'), ('A', 'B', 'D'), ('A', 'B', 'E'), ('A', 'C', 'D'), ('A', 'C', 'E'), ('A', 'D', 'E'), ('B', 'C', 'D'), ('B', 'C', 'E'), ('B', 'D', 'E'), ('C', 'D', 'E')]\n",
            "Missing combinations: [('A', 'C', 'E')]\n"
          ]
        }
      ]
    },
    {
      "cell_type": "code",
      "source": [],
      "metadata": {
        "id": "zspa-yjk7WoD"
      },
      "execution_count": null,
      "outputs": []
    }
  ]
}