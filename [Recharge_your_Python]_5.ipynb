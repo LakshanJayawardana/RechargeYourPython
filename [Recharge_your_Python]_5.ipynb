{
  "nbformat": 4,
  "nbformat_minor": 0,
  "metadata": {
    "colab": {
      "provenance": [],
      "authorship_tag": "ABX9TyMCsyEVkzUAScb+SsA9JvvJ",
      "include_colab_link": true
    },
    "kernelspec": {
      "name": "python3",
      "display_name": "Python 3"
    },
    "language_info": {
      "name": "python"
    }
  },
  "cells": [
    {
      "cell_type": "markdown",
      "metadata": {
        "id": "view-in-github",
        "colab_type": "text"
      },
      "source": [
        "<a href=\"https://colab.research.google.com/github/LakshanJayawardana/RechargeYourPython/blob/Recharge-your-Python%5D-%235/%5BRecharge_your_Python%5D_5.ipynb\" target=\"_parent\"><img src=\"https://colab.research.google.com/assets/colab-badge.svg\" alt=\"Open In Colab\"/></a>"
      ]
    },
    {
      "cell_type": "code",
      "execution_count": null,
      "metadata": {
        "id": "yJ5KKchET1Vp"
      },
      "outputs": [],
      "source": [
        "math_text = '''1. 63 second graders are going on the field trip. 19 parents will also go.\n",
        "How many people are going on the field trip?\n",
        "\n",
        "2. The Apple Farm is 92 miles from the school. They have traveled 58\n",
        "miles so far. How many more miles do they have to go?\n",
        "\n",
        "3. Time to leave! 36 students got on the bus. They waited until all 63\n",
        "students were there. How many students were late to the bus?\n",
        "\n",
        "4. One of the farmer’s pens has a high fence around it. He can\n",
        "see 32 legs under the fence. How many sheep and ducks are\n",
        "in this pen?\n",
        "\n",
        "5. The American Revolution started in 1775 and finished in 1783.\n",
        "In which year was it halfway through?'''\n",
        "\n"
      ]
    },
    {
      "cell_type": "markdown",
      "source": [
        "1. How many digits are in the text?\n",
        "2. Which is the most frequent digit in the text?\n",
        "3. How many times string 'en' appears in the text?"
      ],
      "metadata": {
        "id": "my0VxPZM8adi"
      }
    },
    {
      "cell_type": "markdown",
      "source": [
        "# Task 1"
      ],
      "metadata": {
        "id": "4NgLVhlWbEeo"
      }
    },
    {
      "cell_type": "code",
      "execution_count": null,
      "metadata": {
        "colab": {
          "base_uri": "https://localhost:8080/"
        },
        "id": "6dD3-PNIj2N6",
        "outputId": "e0192dfb-3602-4032-a2ed-16b6bb0ba8aa"
      },
      "outputs": [
        {
          "output_type": "stream",
          "name": "stdout",
          "text": [
            "27\n"
          ]
        }
      ],
      "source": [
        "Digits=0\n",
        "for char in math_text:\n",
        "  if char.isdigit():\n",
        "    Digits+=1\n",
        "\n",
        "print(Digits)"
      ]
    },
    {
      "cell_type": "markdown",
      "source": [
        "# Task 2"
      ],
      "metadata": {
        "id": "GzS_Em54bTBC"
      }
    },
    {
      "cell_type": "code",
      "source": [
        "digits=[]\n",
        "nonDigits=[]\n",
        "for char in math_text:\n",
        "  if char.isdigit():\n",
        "    digits.append(char)\n",
        "  else:\n",
        "    nonDigits.append(char)\n",
        "\n",
        "count=0\n",
        "digit=digits[0]\n",
        "for i in digits:\n",
        "  best_freq=digits.count(i)\n",
        "  if(best_freq>count):\n",
        "    count=best_freq\n",
        "    digit=i\n",
        "print(digit)\n"
      ],
      "metadata": {
        "colab": {
          "base_uri": "https://localhost:8080/"
        },
        "id": "P1KSx_GiUfUz",
        "outputId": "fde7660c-479e-49ec-8b48-0e341853ba91"
      },
      "execution_count": null,
      "outputs": [
        {
          "output_type": "stream",
          "name": "stdout",
          "text": [
            "3\n"
          ]
        }
      ]
    },
    {
      "cell_type": "markdown",
      "source": [
        "# Task 3"
      ],
      "metadata": {
        "id": "vXKLZ0DobVEA"
      }
    },
    {
      "cell_type": "code",
      "source": [
        "count_of_en = math_text.count(\"ed\")\n",
        "print(count_of_en)"
      ],
      "metadata": {
        "colab": {
          "base_uri": "https://localhost:8080/"
        },
        "id": "eMDmR7iAbOT9",
        "outputId": "5c54d6d0-3c46-4b5b-ca70-db7219c9aa16"
      },
      "execution_count": null,
      "outputs": [
        {
          "output_type": "stream",
          "name": "stdout",
          "text": [
            "4\n"
          ]
        }
      ]
    },
    {
      "cell_type": "code",
      "source": [],
      "metadata": {
        "id": "LsWbjdH8bQqz"
      },
      "execution_count": null,
      "outputs": []
    }
  ]
}