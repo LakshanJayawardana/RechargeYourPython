{
  "nbformat": 4,
  "nbformat_minor": 0,
  "metadata": {
    "colab": {
      "provenance": [],
      "authorship_tag": "ABX9TyNavb+s3cPqFKaZDTTlRwtl",
      "include_colab_link": true
    },
    "kernelspec": {
      "name": "python3",
      "display_name": "Python 3"
    },
    "language_info": {
      "name": "python"
    }
  },
  "cells": [
    {
      "cell_type": "markdown",
      "metadata": {
        "id": "view-in-github",
        "colab_type": "text"
      },
      "source": [
        "<a href=\"https://colab.research.google.com/github/LakshanJayawardana/RechargeYourPython/blob/Recharge-your-Python%5D-%2311/%5BRecharge_your_Python%5D_11.ipynb\" target=\"_parent\"><img src=\"https://colab.research.google.com/assets/colab-badge.svg\" alt=\"Open In Colab\"/></a>"
      ]
    },
    {
      "cell_type": "code",
      "execution_count": null,
      "metadata": {
        "id": "Z8cn9yVhkdgK",
        "colab": {
          "base_uri": "https://localhost:8080/"
        },
        "outputId": "b0d88da3-81d7-4633-a005-64b025276629"
      },
      "outputs": [
        {
          "output_type": "stream",
          "name": "stdout",
          "text": [
            "             #timestamp                          #source #messagetype  \\\n",
            "0  T1677485902591193901  OAP1_FIX_TRAFFIC_FILE_OUT_1.dat        Logon   \n",
            "1  T1677485902618000682   OAP1_FIX_TRAFFIC_FILE_IN_1.dat        Logon   \n",
            "2  T1677485902620720834  OAP2_FIX_TRAFFIC_FILE_OUT_1.dat        Logon   \n",
            "3  T1677485902652430525   OAP2_FIX_TRAFFIC_FILE_IN_1.dat        Logon   \n",
            "4  T1677485932618774310   OAP1_FIX_TRAFFIC_FILE_IN_1.dat    HeartBeat   \n",
            "\n",
            "   SecondaryTrdType  ExecRefID  ClearingIntention  TradeDate  MassActionType  \\\n",
            "0               NaN        NaN                NaN        NaN             NaN   \n",
            "1               NaN        NaN                NaN        NaN             NaN   \n",
            "2               NaN        NaN                NaN        NaN             NaN   \n",
            "3               NaN        NaN                NaN        NaN             NaN   \n",
            "4               NaN        NaN                NaN        NaN             NaN   \n",
            "\n",
            "   NoTargetPartyIDs  MessageLength  ...  LastQty  LeavesQty  \\\n",
            "0               NaN             95  ...      NaN        NaN   \n",
            "1               NaN             98  ...      NaN        NaN   \n",
            "2               NaN             95  ...      NaN        NaN   \n",
            "3               NaN             98  ...      NaN        NaN   \n",
            "4               NaN             66  ...      NaN        NaN   \n",
            "\n",
            "  AggressorIndicator  SecondaryClOrdID  OrdType  Text Currency NoLegs  \\\n",
            "0                NaN               NaN      NaN   NaN      NaN    NaN   \n",
            "1                NaN               NaN      NaN   NaN      NaN    NaN   \n",
            "2                NaN               NaN      NaN   NaN      NaN    NaN   \n",
            "3                NaN               NaN      NaN   NaN      NaN    NaN   \n",
            "4                NaN               NaN      NaN   NaN      NaN    NaN   \n",
            "\n",
            "   MassActionRejectReason               SendingTime  \n",
            "0                     NaN  20230227-08:18:22.584240  \n",
            "1                     NaN  20230227-08:18:22.615779  \n",
            "2                     NaN  20230227-08:18:22.584240  \n",
            "3                     NaN  20230227-08:18:22.650247  \n",
            "4                     NaN  20230227-08:18:52.616498  \n",
            "\n",
            "[5 rows x 96 columns]\n"
          ]
        }
      ],
      "source": [
        "from pydrive.auth import GoogleAuth\n",
        "from pydrive.drive import GoogleDrive\n",
        "from google.colab import auth\n",
        "from oauth2client.client import GoogleCredentials\n",
        "import pandas as pd\n",
        " \n",
        " \n",
        "\n",
        "auth.authenticate_user()\n",
        "gauth = GoogleAuth()\n",
        "gauth.credentials = GoogleCredentials.get_application_default()\n",
        "drive = GoogleDrive(gauth)\n",
        "\n",
        "\n",
        "\n",
        "link = 'https://drive.google.com/file/d/1t46TUwtXPWSMigcV9F48_7de3DMaXq7Q/view?usp=share_link'\n",
        " \n",
        "import pandas as pd\n",
        " \n",
        "\n",
        "id = link.split(\"/\")[-2]\n",
        " \n",
        "downloaded = drive.CreateFile({'id':id})\n",
        "downloaded.GetContentFile('traffic11.csv') \n",
        " \n",
        "df = pd.read_csv('traffic11.csv')\n",
        "print(df.head())"
      ]
    },
    {
      "cell_type": "code",
      "source": [
        "nullColumns=0\n",
        "for i in range(len(df.columns)):\n",
        "  if df.isna().sum()[i]==len(df):\n",
        "    nullColumns+=1\n",
        "\n",
        "print(f\"Number of empty columns : {nullColumns}\")\n"
      ],
      "metadata": {
        "colab": {
          "base_uri": "https://localhost:8080/"
        },
        "id": "1nl7qXUMpUOJ",
        "outputId": "0f0b6e01-6142-4143-ca50-5c5a8e48ea19"
      },
      "execution_count": null,
      "outputs": [
        {
          "output_type": "stream",
          "name": "stdout",
          "text": [
            "Number of empty columns : 36\n"
          ]
        }
      ]
    },
    {
      "cell_type": "markdown",
      "source": [
        "# Task 1"
      ],
      "metadata": {
        "id": "L4x5fp0gCUKI"
      }
    },
    {
      "cell_type": "code",
      "source": [
        "nullColumns=0\n",
        "for i in range(len(df.columns)):\n",
        "  if df.isna().sum()[i]==len(df):\n",
        "    nullColumns+=1\n",
        "\n",
        "print(f\"How many columns are empty?: {nullColumns}\")\n",
        "\n",
        "  "
      ],
      "metadata": {
        "colab": {
          "base_uri": "https://localhost:8080/"
        },
        "id": "8s1VlAY_vXvS",
        "outputId": "e9630c14-52f0-43b0-a7c2-135fd7fca7de"
      },
      "execution_count": null,
      "outputs": [
        {
          "output_type": "stream",
          "name": "stdout",
          "text": [
            "How many columns are empty?: 36\n"
          ]
        }
      ]
    },
    {
      "cell_type": "markdown",
      "source": [
        "# Task 2"
      ],
      "metadata": {
        "id": "GUBDM-XvCYLJ"
      }
    },
    {
      "cell_type": "code",
      "source": [
        "listOfColumns=[]\n",
        "uniqVal = set()\n",
        "df1=df.copy()\n",
        "for i in range(len(df1.columns)-1):\n",
        "  if df1.iloc[:,i].isna().sum() != len(df):\n",
        "    df1.iloc[:,i]=df1.iloc[:,i].fillna(\"task\")\n",
        "\n",
        "    listOfColumns.append(set(df1.iloc[:,i]))\n",
        "  \n",
        "\n",
        "\n",
        "\n",
        "print(f\"Number of non-empty columns have less than 10 different values: {len([col for col in listOfColumns if len(col)<10])}\")"
      ],
      "metadata": {
        "colab": {
          "base_uri": "https://localhost:8080/"
        },
        "id": "oIb9Xr_TwF1M",
        "outputId": "f8c47cdb-4338-493c-eac9-40a95fe4c635"
      },
      "execution_count": null,
      "outputs": [
        {
          "output_type": "stream",
          "name": "stdout",
          "text": [
            "Number of non-empty columns have less than 10 different values: 41\n"
          ]
        }
      ]
    },
    {
      "cell_type": "markdown",
      "source": [
        "# Task 3"
      ],
      "metadata": {
        "id": "5uyKwc8qCjxg"
      }
    },
    {
      "cell_type": "code",
      "source": [
        "priceSet=set()\n",
        "for i in range(len(df)):\n",
        "  if df[\"MsgType\"][i]==\"A\":\n",
        "    priceSet.add(df[\"Price\"][i])\n",
        "\n",
        "print(f\"Number of different values of Price are used for NewOrderSingle message type: {len(priceSet)}\")"
      ],
      "metadata": {
        "id": "9nsP4_1UxR7l",
        "colab": {
          "base_uri": "https://localhost:8080/"
        },
        "outputId": "4eff8ea8-aaf7-4efe-f488-e466937e712d"
      },
      "execution_count": null,
      "outputs": [
        {
          "output_type": "stream",
          "name": "stdout",
          "text": [
            "Number of different values of Price are used for NewOrderSingle message type: 4\n"
          ]
        }
      ]
    },
    {
      "cell_type": "code",
      "source": [],
      "metadata": {
        "id": "DFeSrP6SCnh7"
      },
      "execution_count": null,
      "outputs": []
    },
    {
      "cell_type": "code",
      "source": [],
      "metadata": {
        "id": "lfyZjTruHpdA"
      },
      "execution_count": null,
      "outputs": []
    }
  ]
}