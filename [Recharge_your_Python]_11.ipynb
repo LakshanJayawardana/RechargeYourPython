{
  "nbformat": 4,
  "nbformat_minor": 0,
  "metadata": {
    "colab": {
      "provenance": [],
      "authorship_tag": "ABX9TyPycd81cQGp5sPCM6IJZC1J",
      "include_colab_link": true
    },
    "kernelspec": {
      "name": "python3",
      "display_name": "Python 3"
    },
    "language_info": {
      "name": "python"
    }
  },
  "cells": [
    {
      "cell_type": "markdown",
      "metadata": {
        "id": "view-in-github",
        "colab_type": "text"
      },
      "source": [
        "<a href=\"https://colab.research.google.com/github/LakshanJayawardana/RechargeYourPython/blob/main/%5BRecharge_your_Python%5D_11.ipynb\" target=\"_parent\"><img src=\"https://colab.research.google.com/assets/colab-badge.svg\" alt=\"Open In Colab\"/></a>"
      ]
    },
    {
      "cell_type": "code",
      "execution_count": null,
      "metadata": {
        "id": "Z8cn9yVhkdgK"
      },
      "outputs": [],
      "source": [
        "import pandas as pd\n",
        "df = pd.read_csv('traffic11.csv')\n"
      ]
    },
    {
      "cell_type": "code",
      "source": [
        "df.head()"
      ],
      "metadata": {
        "colab": {
          "base_uri": "https://localhost:8080/",
          "height": 386
        },
        "id": "1nl7qXUMpUOJ",
        "outputId": "4d4b321f-8f52-4126-e407-9e8af4ff3a83"
      },
      "execution_count": null,
      "outputs": [
        {
          "output_type": "execute_result",
          "data": {
            "text/plain": [
              "             #timestamp                          #source #messagetype  \\\n",
              "0  T1677485902591193901  OAP1_FIX_TRAFFIC_FILE_OUT_1.dat        Logon   \n",
              "1  T1677485902618000682   OAP1_FIX_TRAFFIC_FILE_IN_1.dat        Logon   \n",
              "2  T1677485902620720834  OAP2_FIX_TRAFFIC_FILE_OUT_1.dat        Logon   \n",
              "3  T1677485902652430525   OAP2_FIX_TRAFFIC_FILE_IN_1.dat        Logon   \n",
              "4  T1677485932618774310   OAP1_FIX_TRAFFIC_FILE_IN_1.dat    HeartBeat   \n",
              "\n",
              "   SecondaryTrdType  ExecRefID  ClearingIntention  TradeDate  MassActionType  \\\n",
              "0               NaN        NaN                NaN        NaN             NaN   \n",
              "1               NaN        NaN                NaN        NaN             NaN   \n",
              "2               NaN        NaN                NaN        NaN             NaN   \n",
              "3               NaN        NaN                NaN        NaN             NaN   \n",
              "4               NaN        NaN                NaN        NaN             NaN   \n",
              "\n",
              "   NoTargetPartyIDs  MessageLength  ...  LastQty  LeavesQty  \\\n",
              "0               NaN             95  ...      NaN        NaN   \n",
              "1               NaN             98  ...      NaN        NaN   \n",
              "2               NaN             95  ...      NaN        NaN   \n",
              "3               NaN             98  ...      NaN        NaN   \n",
              "4               NaN             66  ...      NaN        NaN   \n",
              "\n",
              "  AggressorIndicator  SecondaryClOrdID  OrdType  Text Currency NoLegs  \\\n",
              "0                NaN               NaN      NaN   NaN      NaN    NaN   \n",
              "1                NaN               NaN      NaN   NaN      NaN    NaN   \n",
              "2                NaN               NaN      NaN   NaN      NaN    NaN   \n",
              "3                NaN               NaN      NaN   NaN      NaN    NaN   \n",
              "4                NaN               NaN      NaN   NaN      NaN    NaN   \n",
              "\n",
              "   MassActionRejectReason               SendingTime  \n",
              "0                     NaN  20230227-08:18:22.584240  \n",
              "1                     NaN  20230227-08:18:22.615779  \n",
              "2                     NaN  20230227-08:18:22.584240  \n",
              "3                     NaN  20230227-08:18:22.650247  \n",
              "4                     NaN  20230227-08:18:52.616498  \n",
              "\n",
              "[5 rows x 96 columns]"
            ],
            "text/html": [
              "\n",
              "  <div id=\"df-4e38e1f9-2d74-46cf-98a1-ec5727b44de7\">\n",
              "    <div class=\"colab-df-container\">\n",
              "      <div>\n",
              "<style scoped>\n",
              "    .dataframe tbody tr th:only-of-type {\n",
              "        vertical-align: middle;\n",
              "    }\n",
              "\n",
              "    .dataframe tbody tr th {\n",
              "        vertical-align: top;\n",
              "    }\n",
              "\n",
              "    .dataframe thead th {\n",
              "        text-align: right;\n",
              "    }\n",
              "</style>\n",
              "<table border=\"1\" class=\"dataframe\">\n",
              "  <thead>\n",
              "    <tr style=\"text-align: right;\">\n",
              "      <th></th>\n",
              "      <th>#timestamp</th>\n",
              "      <th>#source</th>\n",
              "      <th>#messagetype</th>\n",
              "      <th>SecondaryTrdType</th>\n",
              "      <th>ExecRefID</th>\n",
              "      <th>ClearingIntention</th>\n",
              "      <th>TradeDate</th>\n",
              "      <th>MassActionType</th>\n",
              "      <th>NoTargetPartyIDs</th>\n",
              "      <th>MessageLength</th>\n",
              "      <th>...</th>\n",
              "      <th>LastQty</th>\n",
              "      <th>LeavesQty</th>\n",
              "      <th>AggressorIndicator</th>\n",
              "      <th>SecondaryClOrdID</th>\n",
              "      <th>OrdType</th>\n",
              "      <th>Text</th>\n",
              "      <th>Currency</th>\n",
              "      <th>NoLegs</th>\n",
              "      <th>MassActionRejectReason</th>\n",
              "      <th>SendingTime</th>\n",
              "    </tr>\n",
              "  </thead>\n",
              "  <tbody>\n",
              "    <tr>\n",
              "      <th>0</th>\n",
              "      <td>T1677485902591193901</td>\n",
              "      <td>OAP1_FIX_TRAFFIC_FILE_OUT_1.dat</td>\n",
              "      <td>Logon</td>\n",
              "      <td>NaN</td>\n",
              "      <td>NaN</td>\n",
              "      <td>NaN</td>\n",
              "      <td>NaN</td>\n",
              "      <td>NaN</td>\n",
              "      <td>NaN</td>\n",
              "      <td>95</td>\n",
              "      <td>...</td>\n",
              "      <td>NaN</td>\n",
              "      <td>NaN</td>\n",
              "      <td>NaN</td>\n",
              "      <td>NaN</td>\n",
              "      <td>NaN</td>\n",
              "      <td>NaN</td>\n",
              "      <td>NaN</td>\n",
              "      <td>NaN</td>\n",
              "      <td>NaN</td>\n",
              "      <td>20230227-08:18:22.584240</td>\n",
              "    </tr>\n",
              "    <tr>\n",
              "      <th>1</th>\n",
              "      <td>T1677485902618000682</td>\n",
              "      <td>OAP1_FIX_TRAFFIC_FILE_IN_1.dat</td>\n",
              "      <td>Logon</td>\n",
              "      <td>NaN</td>\n",
              "      <td>NaN</td>\n",
              "      <td>NaN</td>\n",
              "      <td>NaN</td>\n",
              "      <td>NaN</td>\n",
              "      <td>NaN</td>\n",
              "      <td>98</td>\n",
              "      <td>...</td>\n",
              "      <td>NaN</td>\n",
              "      <td>NaN</td>\n",
              "      <td>NaN</td>\n",
              "      <td>NaN</td>\n",
              "      <td>NaN</td>\n",
              "      <td>NaN</td>\n",
              "      <td>NaN</td>\n",
              "      <td>NaN</td>\n",
              "      <td>NaN</td>\n",
              "      <td>20230227-08:18:22.615779</td>\n",
              "    </tr>\n",
              "    <tr>\n",
              "      <th>2</th>\n",
              "      <td>T1677485902620720834</td>\n",
              "      <td>OAP2_FIX_TRAFFIC_FILE_OUT_1.dat</td>\n",
              "      <td>Logon</td>\n",
              "      <td>NaN</td>\n",
              "      <td>NaN</td>\n",
              "      <td>NaN</td>\n",
              "      <td>NaN</td>\n",
              "      <td>NaN</td>\n",
              "      <td>NaN</td>\n",
              "      <td>95</td>\n",
              "      <td>...</td>\n",
              "      <td>NaN</td>\n",
              "      <td>NaN</td>\n",
              "      <td>NaN</td>\n",
              "      <td>NaN</td>\n",
              "      <td>NaN</td>\n",
              "      <td>NaN</td>\n",
              "      <td>NaN</td>\n",
              "      <td>NaN</td>\n",
              "      <td>NaN</td>\n",
              "      <td>20230227-08:18:22.584240</td>\n",
              "    </tr>\n",
              "    <tr>\n",
              "      <th>3</th>\n",
              "      <td>T1677485902652430525</td>\n",
              "      <td>OAP2_FIX_TRAFFIC_FILE_IN_1.dat</td>\n",
              "      <td>Logon</td>\n",
              "      <td>NaN</td>\n",
              "      <td>NaN</td>\n",
              "      <td>NaN</td>\n",
              "      <td>NaN</td>\n",
              "      <td>NaN</td>\n",
              "      <td>NaN</td>\n",
              "      <td>98</td>\n",
              "      <td>...</td>\n",
              "      <td>NaN</td>\n",
              "      <td>NaN</td>\n",
              "      <td>NaN</td>\n",
              "      <td>NaN</td>\n",
              "      <td>NaN</td>\n",
              "      <td>NaN</td>\n",
              "      <td>NaN</td>\n",
              "      <td>NaN</td>\n",
              "      <td>NaN</td>\n",
              "      <td>20230227-08:18:22.650247</td>\n",
              "    </tr>\n",
              "    <tr>\n",
              "      <th>4</th>\n",
              "      <td>T1677485932618774310</td>\n",
              "      <td>OAP1_FIX_TRAFFIC_FILE_IN_1.dat</td>\n",
              "      <td>HeartBeat</td>\n",
              "      <td>NaN</td>\n",
              "      <td>NaN</td>\n",
              "      <td>NaN</td>\n",
              "      <td>NaN</td>\n",
              "      <td>NaN</td>\n",
              "      <td>NaN</td>\n",
              "      <td>66</td>\n",
              "      <td>...</td>\n",
              "      <td>NaN</td>\n",
              "      <td>NaN</td>\n",
              "      <td>NaN</td>\n",
              "      <td>NaN</td>\n",
              "      <td>NaN</td>\n",
              "      <td>NaN</td>\n",
              "      <td>NaN</td>\n",
              "      <td>NaN</td>\n",
              "      <td>NaN</td>\n",
              "      <td>20230227-08:18:52.616498</td>\n",
              "    </tr>\n",
              "  </tbody>\n",
              "</table>\n",
              "<p>5 rows × 96 columns</p>\n",
              "</div>\n",
              "      <button class=\"colab-df-convert\" onclick=\"convertToInteractive('df-4e38e1f9-2d74-46cf-98a1-ec5727b44de7')\"\n",
              "              title=\"Convert this dataframe to an interactive table.\"\n",
              "              style=\"display:none;\">\n",
              "        \n",
              "  <svg xmlns=\"http://www.w3.org/2000/svg\" height=\"24px\"viewBox=\"0 0 24 24\"\n",
              "       width=\"24px\">\n",
              "    <path d=\"M0 0h24v24H0V0z\" fill=\"none\"/>\n",
              "    <path d=\"M18.56 5.44l.94 2.06.94-2.06 2.06-.94-2.06-.94-.94-2.06-.94 2.06-2.06.94zm-11 1L8.5 8.5l.94-2.06 2.06-.94-2.06-.94L8.5 2.5l-.94 2.06-2.06.94zm10 10l.94 2.06.94-2.06 2.06-.94-2.06-.94-.94-2.06-.94 2.06-2.06.94z\"/><path d=\"M17.41 7.96l-1.37-1.37c-.4-.4-.92-.59-1.43-.59-.52 0-1.04.2-1.43.59L10.3 9.45l-7.72 7.72c-.78.78-.78 2.05 0 2.83L4 21.41c.39.39.9.59 1.41.59.51 0 1.02-.2 1.41-.59l7.78-7.78 2.81-2.81c.8-.78.8-2.07 0-2.86zM5.41 20L4 18.59l7.72-7.72 1.47 1.35L5.41 20z\"/>\n",
              "  </svg>\n",
              "      </button>\n",
              "      \n",
              "  <style>\n",
              "    .colab-df-container {\n",
              "      display:flex;\n",
              "      flex-wrap:wrap;\n",
              "      gap: 12px;\n",
              "    }\n",
              "\n",
              "    .colab-df-convert {\n",
              "      background-color: #E8F0FE;\n",
              "      border: none;\n",
              "      border-radius: 50%;\n",
              "      cursor: pointer;\n",
              "      display: none;\n",
              "      fill: #1967D2;\n",
              "      height: 32px;\n",
              "      padding: 0 0 0 0;\n",
              "      width: 32px;\n",
              "    }\n",
              "\n",
              "    .colab-df-convert:hover {\n",
              "      background-color: #E2EBFA;\n",
              "      box-shadow: 0px 1px 2px rgba(60, 64, 67, 0.3), 0px 1px 3px 1px rgba(60, 64, 67, 0.15);\n",
              "      fill: #174EA6;\n",
              "    }\n",
              "\n",
              "    [theme=dark] .colab-df-convert {\n",
              "      background-color: #3B4455;\n",
              "      fill: #D2E3FC;\n",
              "    }\n",
              "\n",
              "    [theme=dark] .colab-df-convert:hover {\n",
              "      background-color: #434B5C;\n",
              "      box-shadow: 0px 1px 3px 1px rgba(0, 0, 0, 0.15);\n",
              "      filter: drop-shadow(0px 1px 2px rgba(0, 0, 0, 0.3));\n",
              "      fill: #FFFFFF;\n",
              "    }\n",
              "  </style>\n",
              "\n",
              "      <script>\n",
              "        const buttonEl =\n",
              "          document.querySelector('#df-4e38e1f9-2d74-46cf-98a1-ec5727b44de7 button.colab-df-convert');\n",
              "        buttonEl.style.display =\n",
              "          google.colab.kernel.accessAllowed ? 'block' : 'none';\n",
              "\n",
              "        async function convertToInteractive(key) {\n",
              "          const element = document.querySelector('#df-4e38e1f9-2d74-46cf-98a1-ec5727b44de7');\n",
              "          const dataTable =\n",
              "            await google.colab.kernel.invokeFunction('convertToInteractive',\n",
              "                                                     [key], {});\n",
              "          if (!dataTable) return;\n",
              "\n",
              "          const docLinkHtml = 'Like what you see? Visit the ' +\n",
              "            '<a target=\"_blank\" href=https://colab.research.google.com/notebooks/data_table.ipynb>data table notebook</a>'\n",
              "            + ' to learn more about interactive tables.';\n",
              "          element.innerHTML = '';\n",
              "          dataTable['output_type'] = 'display_data';\n",
              "          await google.colab.output.renderOutput(dataTable, element);\n",
              "          const docLink = document.createElement('div');\n",
              "          docLink.innerHTML = docLinkHtml;\n",
              "          element.appendChild(docLink);\n",
              "        }\n",
              "      </script>\n",
              "    </div>\n",
              "  </div>\n",
              "  "
            ]
          },
          "metadata": {},
          "execution_count": 8
        }
      ]
    },
    {
      "cell_type": "markdown",
      "source": [
        "# Task 1"
      ],
      "metadata": {
        "id": "L4x5fp0gCUKI"
      }
    },
    {
      "cell_type": "code",
      "source": [
        "nullColumns=0\n",
        "for i in range(len(df.columns)):\n",
        "  if df.isna().sum()[i]==len(df):\n",
        "    nullColumns+=1\n",
        "\n",
        "print(f\"How many columns are empty?: {nullColumns}\")\n",
        "\n",
        "  "
      ],
      "metadata": {
        "colab": {
          "base_uri": "https://localhost:8080/"
        },
        "id": "8s1VlAY_vXvS",
        "outputId": "e9630c14-52f0-43b0-a7c2-135fd7fca7de"
      },
      "execution_count": null,
      "outputs": [
        {
          "output_type": "stream",
          "name": "stdout",
          "text": [
            "How many columns are empty?: 36\n"
          ]
        }
      ]
    },
    {
      "cell_type": "markdown",
      "source": [
        "# Task 2"
      ],
      "metadata": {
        "id": "GUBDM-XvCYLJ"
      }
    },
    {
      "cell_type": "code",
      "source": [
        "listOfColumns=[]\n",
        "uniqVal = set()\n",
        "df1=df.copy()\n",
        "for i in range(len(df1.columns)-1):\n",
        "  if df1.iloc[:,i].isna().sum() != len(df):\n",
        "    df1.iloc[:,i]=df1.iloc[:,i].fillna(\"task\")\n",
        "\n",
        "    listOfColumns.append(set(df1.iloc[:,i]))\n",
        "  \n",
        "\n",
        "\n",
        "\n",
        "print(f\"How many non-empty columns have less than 10 different values (empty value is also a separate value)?: {len([col for col in listOfColumns if len(col)>25])}\")"
      ],
      "metadata": {
        "colab": {
          "base_uri": "https://localhost:8080/"
        },
        "id": "oIb9Xr_TwF1M",
        "outputId": "49dddca4-8bbc-464e-8160-167cad9e4fde"
      },
      "execution_count": null,
      "outputs": [
        {
          "output_type": "stream",
          "name": "stdout",
          "text": [
            "How many non-empty columns have less than 10 different values (empty value is also a separate value)?: 12\n"
          ]
        }
      ]
    },
    {
      "cell_type": "markdown",
      "source": [
        "# Task 3"
      ],
      "metadata": {
        "id": "5uyKwc8qCjxg"
      }
    },
    {
      "cell_type": "code",
      "source": [
        "priceSet=set()\n",
        "for i in range(len(df)):\n",
        "  if df[\"MsgType\"][i]==\"A\":\n",
        "    priceSet.add(df[\"Price\"][i])\n",
        "\n",
        "print(f\"How many different values of Price are used for NewOrderSingle message type?: {len(priceSet)}\")\n"
      ],
      "metadata": {
        "id": "9nsP4_1UxR7l",
        "colab": {
          "base_uri": "https://localhost:8080/"
        },
        "outputId": "41288b95-769a-4978-930c-ff56c737c583"
      },
      "execution_count": null,
      "outputs": [
        {
          "output_type": "stream",
          "name": "stdout",
          "text": [
            "How many different values of Price are used for NewOrderSingle message type?: 4\n"
          ]
        }
      ]
    },
    {
      "cell_type": "code",
      "source": [
        "listOfColumns=[]\n",
        "uniqVal = set()\n",
        "df1=df.copy()\n",
        "for i in range(len(df1.columns)-1):\n",
        "  if df1.iloc[:,i].isna().sum() != len(df):\n",
        "    df1.iloc[:,i]=df1.iloc[:,i].fillna(\"task\")\n",
        "\n",
        "    listOfColumns.append(set(df1.iloc[:,i]))\n",
        "  \n",
        "\n",
        "\n",
        "\n",
        "print(f\"How many non-empty columns have less than 10 different values (empty value is also a separate value)?: {len([col for col in listOfColumns if len(col)>25])}\")"
      ],
      "metadata": {
        "colab": {
          "base_uri": "https://localhost:8080/"
        },
        "id": "DFeSrP6SCnh7",
        "outputId": "c3e94579-36f1-41bf-fa5d-23804edcdc47"
      },
      "execution_count": null,
      "outputs": [
        {
          "output_type": "stream",
          "name": "stdout",
          "text": [
            "How many non-empty columns have less than 10 different values (empty value is also a separate value)?: 47\n"
          ]
        }
      ]
    },
    {
      "cell_type": "code",
      "source": [],
      "metadata": {
        "id": "lfyZjTruHpdA"
      },
      "execution_count": null,
      "outputs": []
    }
  ]
}