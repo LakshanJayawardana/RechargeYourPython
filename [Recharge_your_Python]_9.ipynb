{
  "nbformat": 4,
  "nbformat_minor": 0,
  "metadata": {
    "colab": {
      "provenance": [],
      "authorship_tag": "ABX9TyNe+nlnAyyUqGNeoxw1O69N",
      "include_colab_link": true
    },
    "kernelspec": {
      "name": "python3",
      "display_name": "Python 3"
    },
    "language_info": {
      "name": "python"
    }
  },
  "cells": [
    {
      "cell_type": "markdown",
      "metadata": {
        "id": "view-in-github",
        "colab_type": "text"
      },
      "source": [
        "<a href=\"https://colab.research.google.com/github/LakshanJayawardana/RechargeYourPython/blob/main/%5BRecharge_your_Python%5D_9.ipynb\" target=\"_parent\"><img src=\"https://colab.research.google.com/assets/colab-badge.svg\" alt=\"Open In Colab\"/></a>"
      ]
    },
    {
      "cell_type": "code",
      "execution_count": null,
      "metadata": {
        "id": "jP9geXPjW52p"
      },
      "outputs": [],
      "source": [
        "import pandas as pd"
      ]
    },
    {
      "cell_type": "code",
      "source": [
        "df = pd.read_csv(r'/content/task9_data.csv')\n",
        "print(df.head())"
      ],
      "metadata": {
        "colab": {
          "base_uri": "https://localhost:8080/"
        },
        "id": "uw8YfZqZXF-Z",
        "outputId": "19fe6e06-a381-458d-d0a1-fb53f20716d3"
      },
      "execution_count": null,
      "outputs": [
        {
          "output_type": "stream",
          "name": "stdout",
          "text": [
            "     ID   A   B\n",
            "0  1001  15  95\n",
            "1  1002  14  47\n",
            "2  1003  10  15\n",
            "3  1004  17  95\n",
            "4  1005  12  39\n"
          ]
        }
      ]
    },
    {
      "cell_type": "code",
      "source": [
        "A = set(df[\"A\"])\n",
        "B = set(df[\"B\"])\n",
        "print(A)\n",
        "print(B)"
      ],
      "metadata": {
        "colab": {
          "base_uri": "https://localhost:8080/"
        },
        "id": "zea5yZHWCemg",
        "outputId": "28014cbe-c7c3-478a-d393-99e4a1778caa"
      },
      "execution_count": null,
      "outputs": [
        {
          "output_type": "stream",
          "name": "stdout",
          "text": [
            "{10, 11, 12, 13, 14, 15, 16, 17, 18, 19, 20, 21, 22}\n",
            "{39, 71, 15, 47, 79, 23, 87, 55, 31, 63, 95}\n"
          ]
        }
      ]
    },
    {
      "cell_type": "markdown",
      "source": [
        "# Task 1"
      ],
      "metadata": {
        "id": "EoEsezUODCzL"
      }
    },
    {
      "cell_type": "code",
      "source": [
        "print(f\"Value:{A.intersection(B)}\")"
      ],
      "metadata": {
        "id": "amDRpgomXd1p",
        "colab": {
          "base_uri": "https://localhost:8080/"
        },
        "outputId": "1ff7e6ed-a585-43ed-faa9-b5ef95dd87ac"
      },
      "execution_count": null,
      "outputs": [
        {
          "output_type": "stream",
          "name": "stdout",
          "text": [
            "Value:{15}\n"
          ]
        }
      ]
    },
    {
      "cell_type": "markdown",
      "source": [
        "# Task 2"
      ],
      "metadata": {
        "id": "8QEIzu5TEGDj"
      }
    },
    {
      "cell_type": "code",
      "source": [
        "print(f\"Max value : {min(B-A)}\")"
      ],
      "metadata": {
        "colab": {
          "base_uri": "https://localhost:8080/"
        },
        "id": "fYPOK9Rq8GwL",
        "outputId": "374ac229-33d0-4dad-a51b-30c56b335af0"
      },
      "execution_count": null,
      "outputs": [
        {
          "output_type": "stream",
          "name": "stdout",
          "text": [
            "Max value : 23\n"
          ]
        }
      ]
    },
    {
      "cell_type": "code",
      "source": [
        "st=set()\n",
        "for i in range(len(df)-1):\n",
        "  st.add(tuple([df.iloc[i][1],df.iloc[i][2]]))\n",
        "\n",
        "print(f\"Number of combinations of A and B values are in the data rows: {len(st)}\")"
      ],
      "metadata": {
        "id": "2HvJbPJD83Wk",
        "colab": {
          "base_uri": "https://localhost:8080/"
        },
        "outputId": "5b639d23-105a-41fe-cd2f-87010e53d29f"
      },
      "execution_count": null,
      "outputs": [
        {
          "output_type": "stream",
          "name": "stdout",
          "text": [
            "Number of combinations of A and B values are in the data rows: 67\n"
          ]
        }
      ]
    },
    {
      "cell_type": "code",
      "source": [],
      "metadata": {
        "id": "dfqWHzciEdo0"
      },
      "execution_count": null,
      "outputs": []
    }
  ]
}