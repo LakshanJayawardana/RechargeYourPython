{
  "nbformat": 4,
  "nbformat_minor": 0,
  "metadata": {
    "colab": {
      "provenance": [],
      "authorship_tag": "ABX9TyNkkICaUsCp5qs235GY5Bkc",
      "include_colab_link": true
    },
    "kernelspec": {
      "name": "python3",
      "display_name": "Python 3"
    },
    "language_info": {
      "name": "python"
    }
  },
  "cells": [
    {
      "cell_type": "markdown",
      "metadata": {
        "id": "view-in-github",
        "colab_type": "text"
      },
      "source": [
        "<a href=\"https://colab.research.google.com/github/LakshanJayawardana/RechargeYourPython/blob/Recharge-your-Python%5D-%2314/%5BRecharge_your_Python%5D_14.ipynb\" target=\"_parent\"><img src=\"https://colab.research.google.com/assets/colab-badge.svg\" alt=\"Open In Colab\"/></a>"
      ]
    },
    {
      "cell_type": "code",
      "source": [
        "import numpy as np\n",
        "from scipy import stats"
      ],
      "metadata": {
        "id": "mKQStHX3zXjn"
      },
      "execution_count": null,
      "outputs": []
    },
    {
      "cell_type": "code",
      "execution_count": null,
      "metadata": {
        "id": "fknphtTbzOZk"
      },
      "outputs": [],
      "source": [
        "X = [273, 275, 284, 286, 288, 299, 307, 310, 312, 322, 331, 339, 343, 354, 356, 362, 369, 377, 383, 388, 398, 403, 412, 422, 426, 437, 447, 451, 457, 459, 465, 474, 482, 486, 490, 498, 506, 515, 520, 531, 534, 545, 555, 557, 558, 567, 569, 573, 577]\n",
        "\n",
        "Y = [329, 330, 346, 354, 357, 380, 393, 399, 406, 428, 443, 461, 465, 488, 495, 507, 520, 533, 544, 558, 576, 588, 604, 625, 630, 652, 674, 685, 697, 701, 713, 732, 744, 756, 764, 778, 791, 812, 821, 840, 849, 870, 891, 892, 896, 914, 919, 929, 938]"
      ]
    },
    {
      "cell_type": "code",
      "source": [
        "avg_y = np.average(Y)\n",
        "median_y = np.median(Y)\n",
        "print(\"Average of Y:\",int(avg_y))\n",
        "print(\"Median of Y:\",int(median_y))"
      ],
      "metadata": {
        "colab": {
          "base_uri": "https://localhost:8080/"
        },
        "id": "GM-rTRiizTvV",
        "outputId": "f8d43c3e-db15-46d7-b1ad-1737aca20438"
      },
      "execution_count": null,
      "outputs": [
        {
          "output_type": "stream",
          "name": "stdout",
          "text": [
            "Average of Y: 633\n",
            "Median of Y: 630\n"
          ]
        }
      ]
    },
    {
      "cell_type": "code",
      "source": [
        "slope, intercept, r, p, std_err = stats.linregress(X, Y)\n",
        "print(slope)\n",
        "print(intercept)\n",
        "print(r,p,std_err)\n",
        "\n"
      ],
      "metadata": {
        "colab": {
          "base_uri": "https://localhost:8080/"
        },
        "id": "pQzM__F50c6M",
        "outputId": "d89dadab-102e-49e3-c6c9-8c2b22e3d4a9"
      },
      "execution_count": null,
      "outputs": [
        {
          "output_type": "stream",
          "name": "stdout",
          "text": [
            "2.000693934668508\n",
            "-219.2139551918592\n",
            "0.9999512998342368 6.2305046453353e-96 0.00288023422862359\n"
          ]
        }
      ]
    },
    {
      "cell_type": "code",
      "source": [
        "def myfunc(x):\n",
        "  return round(slope * x + intercept)"
      ],
      "metadata": {
        "id": "rs9pNjjK1ilu"
      },
      "execution_count": null,
      "outputs": []
    },
    {
      "cell_type": "code",
      "source": [
        "\n",
        "value_for_Y = myfunc(607)\n",
        "\n",
        "print(value_for_Y)"
      ],
      "metadata": {
        "colab": {
          "base_uri": "https://localhost:8080/"
        },
        "id": "y-T7GrDj1sg0",
        "outputId": "3e617b84-a01f-4827-8e16-be9575fec8d4"
      },
      "execution_count": null,
      "outputs": [
        {
          "output_type": "stream",
          "name": "stdout",
          "text": [
            "995\n"
          ]
        }
      ]
    },
    {
      "cell_type": "code",
      "source": [],
      "metadata": {
        "id": "B4LgSyyQ13Sk"
      },
      "execution_count": null,
      "outputs": []
    }
  ]
}