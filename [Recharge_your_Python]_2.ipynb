{
  "nbformat": 4,
  "nbformat_minor": 0,
  "metadata": {
    "colab": {
      "provenance": [],
      "authorship_tag": "ABX9TyPxvSTjtjtVj3iCzSl1kv6O",
      "include_colab_link": true
    },
    "kernelspec": {
      "name": "python3",
      "display_name": "Python 3"
    },
    "language_info": {
      "name": "python"
    }
  },
  "cells": [
    {
      "cell_type": "markdown",
      "metadata": {
        "id": "view-in-github",
        "colab_type": "text"
      },
      "source": [
        "<a href=\"https://colab.research.google.com/github/LakshanJayawardana/RechargeYourPython/blob/Recharge-your-Python%5D-%232/%5BRecharge_your_Python%5D_2.ipynb\" target=\"_parent\"><img src=\"https://colab.research.google.com/assets/colab-badge.svg\" alt=\"Open In Colab\"/></a>"
      ]
    },
    {
      "cell_type": "code",
      "execution_count": null,
      "metadata": {
        "id": "RcNsrDdJv0MG"
      },
      "outputs": [],
      "source": [
        "my_list = [-18, 21, -4, 64, 59, -7, 50, 70, 36, 80, 18, 50, -49, 32, 29, 64, 61, -24, 88, 17, 55, 30, -12, -57, 88, 18, 5, 50, -18, -37, 83, 5, 64, 66, 24, 30, 54, -29, 8, -50, 62, -8, -48, -11, -7, -14, 42, 10, 20, -25, 80, -68, -31, -29, -40, 31, -13, 29, -63, 93, -58, 41, 79, 80, -4, 79, -30, -60, -6, -41, 92, -70, -54, -53, 87, 74, 53]"
      ]
    },
    {
      "cell_type": "markdown",
      "source": [
        "1. What is the sum of all positive numbers in my_list?\n",
        "2. How many values in my_list belong to interval [-50,50]?\n",
        "3. What is the size of the longest sequence of negative numbers in my_list?\n"
      ],
      "metadata": {
        "id": "SMmjy7-G6qhd"
      }
    },
    {
      "cell_type": "markdown",
      "source": [
        "# Task 1"
      ],
      "metadata": {
        "id": "Qiv-SIbo_EXi"
      }
    },
    {
      "cell_type": "code",
      "source": [
        "def sum_of_positive_numbers():\n",
        "  positive = 0\n",
        "  negative = 0\n",
        "  for i in my_list:\n",
        "    if i > 0:\n",
        "      positive += i\n",
        "    else:\n",
        "      negative += i\n",
        "  print(\"Sum of positive numbers: \",positive)\n",
        "sum_of_positive_numbers() \n"
      ],
      "metadata": {
        "colab": {
          "base_uri": "https://localhost:8080/"
        },
        "id": "-bSQmHrZwZtR",
        "outputId": "63a44886-017a-4bfc-d4f0-7013135d61e1"
      },
      "execution_count": null,
      "outputs": [
        {
          "output_type": "stream",
          "name": "stdout",
          "text": [
            "Sum of positive numbers:  2271\n"
          ]
        }
      ]
    },
    {
      "cell_type": "markdown",
      "source": [
        "# Task 2"
      ],
      "metadata": {
        "id": "Lxj-MXPa_Hve"
      }
    },
    {
      "cell_type": "code",
      "source": [
        "def nu_of_integers_within_given_range():\n",
        "  count = 0\n",
        "  for i in my_list:\n",
        "    if i>=-50 and i<=50:\n",
        "      count +=1\n",
        "  print(\"Numbers within given range :\",count)\n",
        "nu_of_integers_within_given_range()"
      ],
      "metadata": {
        "colab": {
          "base_uri": "https://localhost:8080/"
        },
        "id": "DGI8v4gmz3Rx",
        "outputId": "df4fcdb4-a3d9-4e5a-c6b1-15d3308bbd03"
      },
      "execution_count": null,
      "outputs": [
        {
          "output_type": "stream",
          "name": "stdout",
          "text": [
            "Numbers within given range : 46\n"
          ]
        }
      ]
    },
    {
      "cell_type": "markdown",
      "source": [
        "# Task 3"
      ],
      "metadata": {
        "id": "bZgxOvow_J5o"
      }
    },
    {
      "cell_type": "code",
      "source": [
        "\n",
        "def longest_sequence_of_negatives(list):\n",
        "\n",
        "  count = 0\n",
        "  maxVal = 0\n",
        "  score_list = []\n",
        "  for i in list:\n",
        "    if i < 0:\n",
        "      count += 1\n",
        "      if count > maxVal:\n",
        "          maxVal = count\n",
        "          score_list.append(maxVal)\n",
        "    else:\n",
        "      count = 0\n",
        "  return max(score_list)\n",
        "\n",
        "print(longest_sequence_of_negatives(my_list))"
      ],
      "metadata": {
        "id": "O94wyd_N8Gfb",
        "colab": {
          "base_uri": "https://localhost:8080/"
        },
        "outputId": "ea128cb6-3b1e-43c6-85cf-c5e24ae2aad6"
      },
      "execution_count": null,
      "outputs": [
        {
          "output_type": "stream",
          "name": "stdout",
          "text": [
            "5\n"
          ]
        }
      ]
    },
    {
      "cell_type": "code",
      "source": [],
      "metadata": {
        "id": "tH8rKEvIdvdB"
      },
      "execution_count": null,
      "outputs": []
    }
  ]
}