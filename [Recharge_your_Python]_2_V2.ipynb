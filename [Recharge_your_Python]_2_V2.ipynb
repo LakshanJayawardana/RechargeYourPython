{
  "nbformat": 4,
  "nbformat_minor": 0,
  "metadata": {
    "colab": {
      "provenance": []
    },
    "kernelspec": {
      "name": "python3",
      "display_name": "Python 3"
    },
    "language_info": {
      "name": "python"
    }
  },
  "cells": [
    {
      "cell_type": "markdown",
      "source": [
        "1. What is the sum of all positive numbers in my_list?\n",
        "2. How many values in my_list belong to interval [-50,50]?\n",
        "3. What is the size of the longest sequence of negative numbers in my_list?\n",
        "\n"
      ],
      "metadata": {
        "id": "SUZOOAyWhuOU"
      }
    },
    {
      "cell_type": "code",
      "source": [
        "def positive_sum():\n",
        "    sum = 0\n",
        "    for i in my_list:\n",
        "       if i > 0:\n",
        "           sum = sum + i\n",
        "    print(sum)"
      ],
      "metadata": {
        "id": "9LtJhgwE7ftd"
      },
      "execution_count": 7,
      "outputs": []
    },
    {
      "cell_type": "code",
      "source": [
        "def value_count():\n",
        "  count = 0\n",
        "  for i in my_list:\n",
        "    if i <= 50 and i>= -50:\n",
        "      count = count + 1\n",
        "  print(count)"
      ],
      "metadata": {
        "id": "-VK5vxtiilTp"
      },
      "execution_count": 8,
      "outputs": []
    },
    {
      "cell_type": "code",
      "source": [
        "def neg_sequence():\n",
        "  list = []\n",
        "  count = 0\n",
        "  sign = 0\n",
        "  sequence_len = 0\n",
        "  max_len = 0\n",
        "  for i in my_list:\n",
        "    if i < 0:\n",
        "      sign = 0\n",
        "      count += 1\n",
        "    else:\n",
        "      sign = 1\n",
        "      list.append(count)\n",
        "      count = 0\n",
        "  if sign == 0:\n",
        "     list.append(count)\n",
        "  print(max(list))"
      ],
      "metadata": {
        "id": "k8yDni-rkJ_S"
      },
      "execution_count": 9,
      "outputs": []
    },
    {
      "cell_type": "code",
      "source": [
        "if __name__ == '__main__':\n",
        "    my_list = [-18, 21, -4, 64, 59, -7, 50, 70, 36, 80, 18, 50, -49, 32, 29, 64, 61, -24, 88, 17, 55, 30, -12, -57, 88, 18, 5, 50, -18, -37, 83, 5, 64, 66, 24, 30, 54, -29, 8, -50, 62, -8, -48, -11, -7, -14, 42, 10, 20, -25, 80, -68, -31, -29, -40, 31, -13, 29, -63, 93, -58, 41, 79, 80, -4, 79, -30, -60, -6, -41, 92, -70, -54, -53, 87, 74, 53]\n",
        "    positive_sum()\n",
        "    value_count()\n",
        "    neg_sequence()"
      ],
      "metadata": {
        "colab": {
          "base_uri": "https://localhost:8080/"
        },
        "id": "FRkbSEjzihML",
        "outputId": "cf9635a4-a790-49fc-b431-14b49a60a047"
      },
      "execution_count": 10,
      "outputs": [
        {
          "output_type": "stream",
          "name": "stdout",
          "text": [
            "2271\n",
            "46\n",
            "5\n"
          ]
        }
      ]
    }
  ]
}