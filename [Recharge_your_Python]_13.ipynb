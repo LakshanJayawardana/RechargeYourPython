{
  "nbformat": 4,
  "nbformat_minor": 0,
  "metadata": {
    "colab": {
      "provenance": [],
      "authorship_tag": "ABX9TyNxTRmWwISTI6OitSrTUuJ5",
      "include_colab_link": true
    },
    "kernelspec": {
      "name": "python3",
      "display_name": "Python 3"
    },
    "language_info": {
      "name": "python"
    }
  },
  "cells": [
    {
      "cell_type": "markdown",
      "metadata": {
        "id": "view-in-github",
        "colab_type": "text"
      },
      "source": [
        "<a href=\"https://colab.research.google.com/github/LakshanJayawardana/RechargeYourPython/blob/main/%5BRecharge_your_Python%5D_13.ipynb\" target=\"_parent\"><img src=\"https://colab.research.google.com/assets/colab-badge.svg\" alt=\"Open In Colab\"/></a>"
      ]
    },
    {
      "cell_type": "markdown",
      "source": [
        "# Task 1"
      ],
      "metadata": {
        "id": "9ApGUfeb6k0H"
      }
    },
    {
      "cell_type": "code",
      "execution_count": null,
      "metadata": {
        "colab": {
          "base_uri": "https://localhost:8080/"
        },
        "id": "pA5T8qca6hD3",
        "outputId": "ed126b6f-e5ce-4dd7-9041-e70f862f958d"
      },
      "outputs": [
        {
          "output_type": "stream",
          "name": "stdout",
          "text": [
            "Most frequent sum:  41\n"
          ]
        }
      ],
      "source": [
        "import random\n",
        "x_range = range(10, 21)\n",
        "y_range = range(21, 32)\n",
        "freq = {}\n",
        "for i in range(10000):\n",
        "    x = random.choice(x_range)\n",
        "    y = random.choice(y_range)\n",
        "    s = x + y\n",
        "    if s in freq:\n",
        "        freq[s] += 1\n",
        "    else:\n",
        "        freq[s] = 1\n",
        "max_freq = 0\n",
        "most_frequent_sum = None\n",
        "for s in freq:\n",
        "    if freq[s] > max_freq:\n",
        "        max_freq = freq[s]\n",
        "        most_frequent_sum = s\n",
        "\n",
        "print(\"Most frequent sum: \", most_frequent_sum)\n",
        "\n"
      ]
    },
    {
      "cell_type": "markdown",
      "source": [
        "# Task 2"
      ],
      "metadata": {
        "id": "e7zc_q5CUUrj"
      }
    },
    {
      "cell_type": "code",
      "source": [
        "import random\n",
        "word1_options = [\"Hi\", \"Hey\", \"Hello\", \"Good morning\"]\n",
        "word2_options = [\"friend\", \"boss\", \"buddy\", \"baby\", \"sweetheart\"]\n",
        "word3_options = [\"\", \"How are you?\", \"What's up?\" ]\n",
        "\n",
        "def count_e(word):\n",
        "  return word.count(\"e\")\n",
        "\n",
        "freq_of_exactly3_timesof_e = 0\n",
        "nu_of_tries = 1000000\n",
        "for i in range(1000000):\n",
        "  x = random.choice(word1_options)\n",
        "  y = random.choice(word2_options)\n",
        "  z = random.choice(word3_options)\n",
        "\n",
        "  greeting = x+ \" \"+y+\" \"+z\n",
        "\n",
        "  num_of_e_in_final_greet = count_e(greeting)\n",
        "  if num_of_e_in_final_greet == 3:\n",
        "    freq_of_exactly3_timesof_e +=1\n",
        "\n",
        "probability = round(freq_of_exactly3_timesof_e/nu_of_tries*100)\n",
        "print(\"estimate the probability that the greeting text contains exactly 3 symbols:\",probability,\"%\")\n",
        "\n",
        "  "
      ],
      "metadata": {
        "id": "agbEdsa17FA_",
        "colab": {
          "base_uri": "https://localhost:8080/"
        },
        "outputId": "c8f31db4-6e3f-4677-fad5-9eb028a34e8f"
      },
      "execution_count": null,
      "outputs": [
        {
          "output_type": "stream",
          "name": "stdout",
          "text": [
            "estimate the probability that the greeting text contains exactly 3 symbols: 10 %\n"
          ]
        }
      ]
    },
    {
      "cell_type": "markdown",
      "source": [
        "# Task 3"
      ],
      "metadata": {
        "id": "Y_oin_nUUXiZ"
      }
    },
    {
      "cell_type": "code",
      "source": [
        "import random\n",
        "import math\n",
        "circle_center_x = 0 \n",
        "circle_center_y = 0\n",
        "radius = 5\n",
        "square_x = 4\n",
        "square_y = 0\n",
        "square_side = 3\n",
        "for i in range(num_of_trials):\n",
        "  x = random.uniform(-5, 9)\n",
        "  y = random.uniform(-5, 5)\n",
        "    if (x**2 + y**2 <= 25) and ((x-4)**2 + y**2 <= 9):\n",
        "        count += 1\n",
        "\n",
        "num_of_successes_posibilities = 0\n",
        "num_of_trials = 1000000\n",
        "for i in range(num_of_trials):\n",
        "    x = random.uniform(square_x, square_x + square_side)\n",
        "    y = random.uniform(square_y, square_y + square_side)\n",
        "    if is_square_inside_circle(x, y) and x >= square_x and x <= square_x + square_side and y >= square_y and y <= square_y + square_side:\n",
        "        num_of_successes_posibilities += 1\n",
        "square_area = square_side**2\n",
        "circle_area = math.pi * radius**2\n",
        "intersection_area = num_of_successes_posibilities / num_of_trials * square_area\n",
        "\n",
        "print(\"Posible area of intersection: \", round(intersection_area))\n"
      ],
      "metadata": {
        "colab": {
          "base_uri": "https://localhost:8080/"
        },
        "id": "Bspbe9q-UY5x",
        "outputId": "c3a54fe6-197f-476a-cdfa-961c24c01355"
      },
      "execution_count": null,
      "outputs": [
        {
          "output_type": "stream",
          "name": "stdout",
          "text": [
            "Posible area of intersection:  2\n"
          ]
        }
      ]
    },
    {
      "cell_type": "code",
      "source": [
        "#Using Mounte Carlo method\n",
        "import random\n",
        "\n",
        "count = 0\n",
        "n = 10000\n",
        "\n",
        "for i in range(n):\n",
        "    x = random.uniform(-5, 9)\n",
        "    y = random.uniform(-5, 5)\n",
        "    if (x**2 + y**2 <= 25) and ((x-4)**2 + y**2 <= 9):\n",
        "        count += 1\n",
        "\n",
        "area = count/n * 140 \n",
        "print(round(area))\n"
      ],
      "metadata": {
        "id": "D-Dz4TszacYy",
        "colab": {
          "base_uri": "https://localhost:8080/"
        },
        "outputId": "ce4f1b8a-745e-4d4d-b9c3-ab513f5d401c"
      },
      "execution_count": null,
      "outputs": [
        {
          "output_type": "stream",
          "name": "stdout",
          "text": [
            "18\n"
          ]
        }
      ]
    },
    {
      "cell_type": "code",
      "source": [],
      "metadata": {
        "id": "flSJJmCKP-CC"
      },
      "execution_count": null,
      "outputs": []
    }
  ]
}