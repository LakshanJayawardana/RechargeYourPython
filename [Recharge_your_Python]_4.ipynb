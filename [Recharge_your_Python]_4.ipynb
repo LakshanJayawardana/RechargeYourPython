{
  "nbformat": 4,
  "nbformat_minor": 0,
  "metadata": {
    "colab": {
      "provenance": [],
      "authorship_tag": "ABX9TyMtgFkqhjwsp8638p+48LLx",
      "include_colab_link": true
    },
    "kernelspec": {
      "name": "python3",
      "display_name": "Python 3"
    },
    "language_info": {
      "name": "python"
    }
  },
  "cells": [
    {
      "cell_type": "markdown",
      "metadata": {
        "id": "view-in-github",
        "colab_type": "text"
      },
      "source": [
        "<a href=\"https://colab.research.google.com/github/LakshanJayawardana/RechargeYourPython/blob/main/%5BRecharge_your_Python%5D_4.ipynb\" target=\"_parent\"><img src=\"https://colab.research.google.com/assets/colab-badge.svg\" alt=\"Open In Colab\"/></a>"
      ]
    },
    {
      "cell_type": "code",
      "execution_count": null,
      "metadata": {
        "id": "cWkwHXK9Vlq1"
      },
      "outputs": [],
      "source": [
        "martin_luther_king_speech = 'And so even though we face the difficulties of today and tomorrow, I still have a dream. It is a dream deeply rooted in the American dream. I have a dream that one day this nation will rise up and live out the true meaning of its creed: \"We hold these truths to be self-evident, that all men are created equal.\" I have a dream that one day on the red hills of Georgia, the sons of former slaves and the sons of former slave owners will be able to sit down together at the table of brotherhood. I have a dream that one day even the state of Mississippi, a state sweltering with the heat of injustice, sweltering with the heat of oppression, will be transformed into an oasis of freedom and justice. I have a dream that my four little children will one day live in a nation where they will not be judged by the color of their skin but by the content of their character. I have a dream today! I have a dream that one day, down in Alabama, with its vicious racists, with its governor having his lips dripping with the words of \"interposition\" and \"nullification\" - one day right there in Alabama little black boys and black girls will be able to join hands with little white boys and white girls as sisters and brothers. I have a dream today! I have a dream that one day every valley shall be exalted, and every hill and mountain shall be made low, the rough places will be made plain, and the crooked places will be made straight; \"and the glory of the Lord shall be revealed and all flesh shall see it together.\" This is our hope, and this is the faith that I go back to the South with.'"
      ]
    },
    {
      "cell_type": "markdown",
      "source": [
        "1. How many words are in the text?\n",
        "2. How many words start with an upper case character?\n",
        "3. What is the length of the longest word in the text?\n"
      ],
      "metadata": {
        "id": "YgYefKNh7_-C"
      }
    },
    {
      "cell_type": "markdown",
      "source": [
        "# Task 1"
      ],
      "metadata": {
        "id": "076aRjvtVp8m"
      }
    },
    {
      "cell_type": "code",
      "source": [
        "countOfWords = len(martin_luther_king_speech.split())\n",
        "print(\"Count of Words in the given Sentence:\", countOfWords)"
      ],
      "metadata": {
        "colab": {
          "base_uri": "https://localhost:8080/"
        },
        "id": "JmIaJOlyftEj",
        "outputId": "8b4898ce-8855-41d7-e650-0d9f8408d609"
      },
      "execution_count": null,
      "outputs": [
        {
          "output_type": "stream",
          "name": "stdout",
          "text": [
            "Count of Words in the given Sentence: 306\n"
          ]
        }
      ]
    },
    {
      "cell_type": "markdown",
      "source": [
        "# Task 2"
      ],
      "metadata": {
        "id": "1iAwGkNVxSxd"
      }
    },
    {
      "cell_type": "code",
      "source": [
        "list1 =[]\n",
        "for word in martin_luther_king_speech:\n",
        "  if word[0].isupper():\n",
        "    list1.append(word)\n",
        "print(len(list1))"
      ],
      "metadata": {
        "id": "q21B4gNBgi_8",
        "colab": {
          "base_uri": "https://localhost:8080/"
        },
        "outputId": "29336e86-846f-43fc-d6a9-26cec205d0f1"
      },
      "execution_count": null,
      "outputs": [
        {
          "output_type": "stream",
          "name": "stdout",
          "text": [
            "21\n"
          ]
        }
      ]
    },
    {
      "cell_type": "markdown",
      "source": [
        "# Task 3"
      ],
      "metadata": {
        "id": "JLRv7G_txWXv"
      }
    },
    {
      "cell_type": "code",
      "source": [
        "import re\n",
        "\n",
        "new = martin_luther_king_speech.split()\n",
        "len(new)"
      ],
      "metadata": {
        "colab": {
          "base_uri": "https://localhost:8080/"
        },
        "id": "17DrC7-iuPk1",
        "outputId": "a5d47e12-5a1c-47bb-a573-964e1a32340d"
      },
      "execution_count": null,
      "outputs": [
        {
          "output_type": "execute_result",
          "data": {
            "text/plain": [
              "306"
            ]
          },
          "metadata": {},
          "execution_count": 32
        }
      ]
    },
    {
      "cell_type": "code",
      "source": [
        "lenght =[]\n",
        "for i in new:\n",
        "  \n",
        "  lenght.append(len(i))\n",
        "max(lenght)\n"
      ],
      "metadata": {
        "colab": {
          "base_uri": "https://localhost:8080/"
        },
        "id": "78ObtWV5usdC",
        "outputId": "c48050e9-f93f-41c2-94bc-ad9191586aaa"
      },
      "execution_count": null,
      "outputs": [
        {
          "output_type": "execute_result",
          "data": {
            "text/plain": [
              "15"
            ]
          },
          "metadata": {},
          "execution_count": 29
        }
      ]
    },
    {
      "cell_type": "code",
      "source": [],
      "metadata": {
        "id": "vNu2Pclow0J0"
      },
      "execution_count": null,
      "outputs": []
    }
  ]
}