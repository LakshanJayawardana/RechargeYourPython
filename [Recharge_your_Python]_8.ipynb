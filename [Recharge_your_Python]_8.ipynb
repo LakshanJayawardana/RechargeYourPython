{
  "nbformat": 4,
  "nbformat_minor": 0,
  "metadata": {
    "colab": {
      "provenance": [],
      "authorship_tag": "ABX9TyOkQWjXeIQc6IgFTQ+frdmX",
      "include_colab_link": true
    },
    "kernelspec": {
      "name": "python3",
      "display_name": "Python 3"
    },
    "language_info": {
      "name": "python"
    }
  },
  "cells": [
    {
      "cell_type": "markdown",
      "metadata": {
        "id": "view-in-github",
        "colab_type": "text"
      },
      "source": [
        "<a href=\"https://colab.research.google.com/github/LakshanJayawardana/RechargeYourPython/blob/Recharge-your-Python%5D-%238/%5BRecharge_your_Python%5D_8.ipynb\" target=\"_parent\"><img src=\"https://colab.research.google.com/assets/colab-badge.svg\" alt=\"Open In Colab\"/></a>"
      ]
    },
    {
      "cell_type": "code",
      "execution_count": null,
      "metadata": {
        "id": "xgfTwoH6A7mH"
      },
      "outputs": [],
      "source": [
        "param_values = [\n",
        "[11,0,14,32,0,0,0,18,1,41,0,1],\n",
        "[12,0,19,32,0,0,0,24,1,41,0,1],\n",
        "[13,0,10,32,0,0,0,12,1,41,0,1],\n",
        "[14,0,30,12,0,1,0,40,1,54,0,1],\n",
        "[15,0,27,32,0,0,0,36,1,41,0,1],\n",
        "[16,0,30,12,0,1,0,39,1,54,0,1],\n",
        "[17,0,37,12,0,1,0,49,1,54,0,1],\n",
        "[18,0,34,12,0,1,0,45,1,54,0,1],\n",
        "[19,0,13,32,0,0,0,16,1,41,0,1],\n",
        "[20,0,34,12,0,1,0,45,1,54,0,1],\n",
        "[21,0,55,19,0,2,1,75,1,67,0,1],\n",
        "[22,0,62,19,0,2,1,84,1,67,0,1],\n",
        "[23,0,12,32,0,0,0,15,1,41,0,1],\n",
        "[24,0,31,12,0,1,0,41,1,54,0,1],\n",
        "[25,0,15,32,0,0,0,20,1,41,0,1],\n",
        "[26,1,62,19,0,2,1,84,1,67,0,1],\n",
        "[27,0,55,19,0,2,1,75,1,67,0,1],\n",
        "[28,0,54,19,0,2,1,73,1,67,0,1],\n",
        "[29,0,17,32,0,0,0,22,1,41,0,1],\n",
        "[30,0,12,32,0,0,0,16,1,41,0,1]]\n"
      ]
    },
    {
      "cell_type": "markdown",
      "source": [
        "# Task 1"
      ],
      "metadata": {
        "id": "A-ovG83PZDwu"
      }
    },
    {
      "cell_type": "code",
      "source": [
        "max2Parametr = max([para[2] for para in param_values])\n",
        "print(f\"Maximum value of parameter #2 : {max2Parametr}\")"
      ],
      "metadata": {
        "colab": {
          "base_uri": "https://localhost:8080/"
        },
        "id": "K94YNsWbBAIy",
        "outputId": "88d4e8e7-107a-404b-fb1a-021b624677c8"
      },
      "execution_count": null,
      "outputs": [
        {
          "output_type": "stream",
          "name": "stdout",
          "text": [
            "Maximum value of parameter #2 : 62\n"
          ]
        }
      ]
    },
    {
      "cell_type": "markdown",
      "source": [
        "# Task 2"
      ],
      "metadata": {
        "id": "LVmRng0xbJIt"
      }
    },
    {
      "cell_type": "code",
      "source": [
        "iThParam=[]\n",
        "lstIThParam=[]\n",
        "for i in range(12):\n",
        "  for j in range(len(param_values)):\n",
        "    iThParam.append(param_values[j][i])\n",
        "  lstIThParam.append(iThParam)\n",
        "  iThParam=[]\n",
        "\n",
        "\n",
        "paraRange=[]\n",
        "for val in lstIThParam:\n",
        "  paraRange.append(max(val)-min(val))\n",
        "\n",
        "\n",
        "maxRange=max(paraRange)\n",
        "print(f\"Parameter which has the largest range : {paraRange.index(maxRange)}\")"
      ],
      "metadata": {
        "id": "1GdmSM6qBX1A",
        "colab": {
          "base_uri": "https://localhost:8080/"
        },
        "outputId": "c1eb0153-321e-4081-bb9f-6b7c0e14da70"
      },
      "execution_count": null,
      "outputs": [
        {
          "output_type": "stream",
          "name": "stdout",
          "text": [
            "Parameter which has the largest range : 7\n"
          ]
        }
      ]
    },
    {
      "cell_type": "code",
      "source": [
        "print(max(param_values[1]))\n",
        "print(min(param_values[1]))"
      ],
      "metadata": {
        "colab": {
          "base_uri": "https://localhost:8080/"
        },
        "id": "dsng4Lxib2Ie",
        "outputId": "8789704c-3d39-4186-e366-f27323b8269c"
      },
      "execution_count": null,
      "outputs": [
        {
          "output_type": "stream",
          "name": "stdout",
          "text": [
            "41\n",
            "0\n"
          ]
        }
      ]
    },
    {
      "cell_type": "markdown",
      "source": [
        "# Task 3"
      ],
      "metadata": {
        "id": "DcmTAMGRhNAv"
      }
    },
    {
      "cell_type": "code",
      "source": [
        " lstOfUniqueCounts=[]\n",
        " uniques=set()\n",
        " for lst in lstIThParam:\n",
        "   uniques.update(lst)\n",
        "   lstOfUniqueCounts.append(len(uniques))\n",
        "   uniques=set()\n",
        "\n",
        "count=0\n",
        "for lns in lstOfUniqueCounts:\n",
        "  if lns==3:\n",
        "    count+=1\n",
        "\n",
        "print(f\"Number of parameters which have exactly 3 different values : {count}\")"
      ],
      "metadata": {
        "id": "pKKRV317b6M7",
        "colab": {
          "base_uri": "https://localhost:8080/"
        },
        "outputId": "224bdb24-67d3-445d-d3f1-2a2a1d328b84"
      },
      "execution_count": null,
      "outputs": [
        {
          "output_type": "stream",
          "name": "stdout",
          "text": [
            "Number of parameters which have exactly 3 different values : 3\n"
          ]
        }
      ]
    },
    {
      "cell_type": "code",
      "source": [],
      "metadata": {
        "id": "4vb5qCKoZwhp"
      },
      "execution_count": null,
      "outputs": []
    }
  ]
}