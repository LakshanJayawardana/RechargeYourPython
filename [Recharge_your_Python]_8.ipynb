{
  "nbformat": 4,
  "nbformat_minor": 0,
  "metadata": {
    "colab": {
      "provenance": [],
      "authorship_tag": "ABX9TyOavAMIvZgwFMcSPSt8AOxS",
      "include_colab_link": true
    },
    "kernelspec": {
      "name": "python3",
      "display_name": "Python 3"
    },
    "language_info": {
      "name": "python"
    }
  },
  "cells": [
    {
      "cell_type": "markdown",
      "metadata": {
        "id": "view-in-github",
        "colab_type": "text"
      },
      "source": [
        "<a href=\"https://colab.research.google.com/github/LakshanJayawardana/RechargeYourPython/blob/main/%5BRecharge_your_Python%5D_8.ipynb\" target=\"_parent\"><img src=\"https://colab.research.google.com/assets/colab-badge.svg\" alt=\"Open In Colab\"/></a>"
      ]
    },
    {
      "cell_type": "code",
      "execution_count": null,
      "metadata": {
        "id": "xgfTwoH6A7mH"
      },
      "outputs": [],
      "source": [
        "param_values = [\n",
        "[11,0,14,32,0,0,0,18,1,41,0,1],\n",
        "[12,0,19,32,0,0,0,24,1,41,0,1],\n",
        "[13,0,10,32,0,0,0,12,1,41,0,1],\n",
        "[14,0,30,12,0,1,0,40,1,54,0,1],\n",
        "[15,0,27,32,0,0,0,36,1,41,0,1],\n",
        "[16,0,30,12,0,1,0,39,1,54,0,1],\n",
        "[17,0,37,12,0,1,0,49,1,54,0,1],\n",
        "[18,0,34,12,0,1,0,45,1,54,0,1],\n",
        "[19,0,13,32,0,0,0,16,1,41,0,1],\n",
        "[20,0,34,12,0,1,0,45,1,54,0,1],\n",
        "[21,0,55,19,0,2,1,75,1,67,0,1],\n",
        "[22,0,62,19,0,2,1,84,1,67,0,1],\n",
        "[23,0,12,32,0,0,0,15,1,41,0,1],\n",
        "[24,0,31,12,0,1,0,41,1,54,0,1],\n",
        "[25,0,15,32,0,0,0,20,1,41,0,1],\n",
        "[26,1,62,19,0,2,1,84,1,67,0,1],\n",
        "[27,0,55,19,0,2,1,75,1,67,0,1],\n",
        "[28,0,54,19,0,2,1,73,1,67,0,1],\n",
        "[29,0,17,32,0,0,0,22,1,41,0,1],\n",
        "[30,0,12,32,0,0,0,16,1,41,0,1]]\n"
      ]
    },
    {
      "cell_type": "markdown",
      "source": [
        "# Task 1"
      ],
      "metadata": {
        "id": "A-ovG83PZDwu"
      }
    },
    {
      "cell_type": "code",
      "source": [
        "max_value = param_values[0][1]\n",
        "for i in range(len(param_values)):\n",
        "  if param_values[i][1] > max_value:\n",
        "    max_value = param_values[i][1]\n",
        "print(max_value)\n",
        "  "
      ],
      "metadata": {
        "colab": {
          "base_uri": "https://localhost:8080/"
        },
        "id": "K94YNsWbBAIy",
        "outputId": "af6d28e6-7e0e-4b23-a792-d1951fa3bdcb"
      },
      "execution_count": null,
      "outputs": [
        {
          "output_type": "stream",
          "name": "stdout",
          "text": [
            "1\n"
          ]
        }
      ]
    },
    {
      "cell_type": "markdown",
      "source": [
        "# Task 2"
      ],
      "metadata": {
        "id": "LVmRng0xbJIt"
      }
    },
    {
      "cell_type": "code",
      "source": [
        "\n",
        "ranges = []\n",
        "for i in range(len(param_values)-1):\n",
        "  Max = max(param_values[i])\n",
        "  Min = min(param_values[i])\n",
        "  rangeof = Max - Min\n",
        "  ranges.append(rangeof)\n",
        "print(max(ranges))"
      ],
      "metadata": {
        "id": "1GdmSM6qBX1A",
        "colab": {
          "base_uri": "https://localhost:8080/",
          "height": 235
        },
        "outputId": "10fa46a6-ccfc-425d-b2d0-3b9d72d75342"
      },
      "execution_count": null,
      "outputs": [
        {
          "output_type": "error",
          "ename": "TypeError",
          "evalue": "ignored",
          "traceback": [
            "\u001b[0;31m---------------------------------------------------------------------------\u001b[0m",
            "\u001b[0;31mTypeError\u001b[0m                                 Traceback (most recent call last)",
            "\u001b[0;32m<ipython-input-28-b8d854c1cc17>\u001b[0m in \u001b[0;36m<module>\u001b[0;34m\u001b[0m\n\u001b[1;32m      1\u001b[0m \u001b[0mranges\u001b[0m \u001b[0;34m=\u001b[0m \u001b[0;34m[\u001b[0m\u001b[0;34m]\u001b[0m\u001b[0;34m\u001b[0m\u001b[0;34m\u001b[0m\u001b[0m\n\u001b[1;32m      2\u001b[0m \u001b[0;32mfor\u001b[0m \u001b[0mi\u001b[0m \u001b[0;32min\u001b[0m \u001b[0mrange\u001b[0m\u001b[0;34m(\u001b[0m\u001b[0mlen\u001b[0m\u001b[0;34m(\u001b[0m\u001b[0mparam_values\u001b[0m\u001b[0;34m)\u001b[0m\u001b[0;34m-\u001b[0m\u001b[0;36m1\u001b[0m\u001b[0;34m)\u001b[0m\u001b[0;34m:\u001b[0m\u001b[0;34m\u001b[0m\u001b[0;34m\u001b[0m\u001b[0m\n\u001b[0;32m----> 3\u001b[0;31m   \u001b[0mMax\u001b[0m \u001b[0;34m=\u001b[0m \u001b[0mmax\u001b[0m\u001b[0;34m(\u001b[0m\u001b[0mparam_values\u001b[0m\u001b[0;34m[\u001b[0m\u001b[0mi\u001b[0m\u001b[0;34m]\u001b[0m\u001b[0;34m)\u001b[0m\u001b[0;34m\u001b[0m\u001b[0;34m\u001b[0m\u001b[0m\n\u001b[0m\u001b[1;32m      4\u001b[0m   \u001b[0mMin\u001b[0m \u001b[0;34m=\u001b[0m \u001b[0mmin\u001b[0m\u001b[0;34m(\u001b[0m\u001b[0mparam_values\u001b[0m\u001b[0;34m[\u001b[0m\u001b[0mi\u001b[0m\u001b[0;34m]\u001b[0m\u001b[0;34m)\u001b[0m\u001b[0;34m\u001b[0m\u001b[0;34m\u001b[0m\u001b[0m\n\u001b[1;32m      5\u001b[0m   \u001b[0mrangeof\u001b[0m \u001b[0;34m=\u001b[0m \u001b[0mMax\u001b[0m \u001b[0;34m-\u001b[0m \u001b[0mMin\u001b[0m\u001b[0;34m\u001b[0m\u001b[0;34m\u001b[0m\u001b[0m\n",
            "\u001b[0;31mTypeError\u001b[0m: 'int' object is not callable"
          ]
        }
      ]
    },
    {
      "cell_type": "code",
      "source": [
        "print(max(param_values[1]))\n",
        "print(min(param_values[1]))"
      ],
      "metadata": {
        "colab": {
          "base_uri": "https://localhost:8080/"
        },
        "id": "dsng4Lxib2Ie",
        "outputId": "8789704c-3d39-4186-e366-f27323b8269c"
      },
      "execution_count": null,
      "outputs": [
        {
          "output_type": "stream",
          "name": "stdout",
          "text": [
            "41\n",
            "0\n"
          ]
        }
      ]
    },
    {
      "cell_type": "markdown",
      "source": [
        "# Task 3"
      ],
      "metadata": {
        "id": "DcmTAMGRhNAv"
      }
    },
    {
      "cell_type": "code",
      "source": [],
      "metadata": {
        "id": "pKKRV317b6M7"
      },
      "execution_count": null,
      "outputs": []
    }
  ]
}