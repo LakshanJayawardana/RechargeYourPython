{
  "nbformat": 4,
  "nbformat_minor": 0,
  "metadata": {
    "colab": {
      "provenance": [],
      "authorship_tag": "ABX9TyN2zCmjz5G+c3QtK9ZCXmeT",
      "include_colab_link": true
    },
    "kernelspec": {
      "name": "python3",
      "display_name": "Python 3"
    },
    "language_info": {
      "name": "python"
    }
  },
  "cells": [
    {
      "cell_type": "markdown",
      "metadata": {
        "id": "view-in-github",
        "colab_type": "text"
      },
      "source": [
        "<a href=\"https://colab.research.google.com/github/LakshanJayawardana/RechargeYourPython/blob/Recharge-your-Python%5D-%236/%5BRecharge_your_Python%5D_6.ipynb\" target=\"_parent\"><img src=\"https://colab.research.google.com/assets/colab-badge.svg\" alt=\"Open In Colab\"/></a>"
      ]
    },
    {
      "cell_type": "code",
      "execution_count": null,
      "metadata": {
        "id": "o4MU9QWMcMZX"
      },
      "outputs": [],
      "source": [
        "name_stat = [{\"name\":\"John\", \"count\":4403862, \"gender\":\"male\"},\n",
        "\n",
        "{\"name\":\"Christopher\", \"count\":2044437, \"gender\":\"male\"},\n",
        "\n",
        "{\"name\":\"Patricia\", \"count\":1555054, \"gender\":\"female\"},\n",
        "\n",
        "{\"name\":\"Daniel\", \"count\":1900488, \"gender\":\"male\"},\n",
        "\n",
        "{\"name\":\"Richard\", \"count\":2439835, \"gender\":\"male\"},\n",
        "\n",
        "{\"name\":\"Michael\", \"count\":4340931, \"gender\":\"male\"},\n",
        "\n",
        "{\"name\":\"Steven\", \"count\":1283686, \"gender\":\"male\"},\n",
        "\n",
        "{\"name\":\"Jessica\", \"count\":1047000, \"gender\":\"female\"},\n",
        "\n",
        "{\"name\":\"Andrew\", \"count\":1255723, \"gender\":\"male\"},\n",
        "\n",
        "{\"name\":\"Donald\", \"count\":1323467, \"gender\":\"male\"},\n",
        "\n",
        "{\"name\":\"Mary\", \"count\":3124584, \"gender\":\"female\"},\n",
        "\n",
        "{\"name\":\"Barbara\", \"count\":1391959, \"gender\":\"female\"},\n",
        "\n",
        "{\"name\":\"Anthony\", \"count\":1407623, \"gender\":\"male\"},\n",
        "\n",
        "{\"name\":\"Thomas\", \"count\":2143281, \"gender\":\"male\"},\n",
        "\n",
        "{\"name\":\"Linda\", \"count\":1448283, \"gender\":\"female\"},\n",
        "\n",
        "{\"name\":\"Joshua\", \"count\":1226213, \"gender\":\"male\"},\n",
        "\n",
        "{\"name\":\"Paul\", \"count\":1263912, \"gender\":\"male\"},\n",
        "\n",
        "{\"name\":\"Elizabeth\", \"count\":1411916, \"gender\":\"female\"},\n",
        "\n",
        "{\"name\":\"Robert\", \"count\":4407377, \"gender\":\"male\"},\n",
        "\n",
        "{\"name\":\"James\", \"count\":4663035, \"gender\":\"male\"},\n",
        "\n",
        "{\"name\":\"Charles\", \"count\":2060835, \"gender\":\"male\"},\n",
        "\n",
        "{\"name\":\"Susan\", \"count\":1103018, \"gender\":\"female\"},\n",
        "\n",
        "{\"name\":\"Joseph\", \"count\":2317860, \"gender\":\"male\"},\n",
        "\n",
        "{\"name\":\"Jennifer\", \"count\":1469031, \"gender\":\"female\"},\n",
        "\n",
        "{\"name\":\"Mark\", \"count\":1348322, \"gender\":\"male\"},\n",
        "\n",
        "{\"name\":\"David\", \"count\":3564313, \"gender\":\"male\"},\n",
        "\n",
        "{\"name\":\"Matthew\", \"count\":1614109, \"gender\":\"male\"},\n",
        "\n",
        "{\"name\":\"William\", \"count\":3524670, \"gender\":\"male\"}]\n",
        "\n"
      ]
    },
    {
      "cell_type": "markdown",
      "source": [
        "1. How many female names are in the list?\n",
        "2. Which male name has the maximum count?\n",
        "3. What is the total count for female names, which end with letter \"a\"?"
      ],
      "metadata": {
        "id": "YDbCqMi58y7P"
      }
    },
    {
      "cell_type": "markdown",
      "source": [
        "# Task 1"
      ],
      "metadata": {
        "id": "hGADIRfTdgjI"
      }
    },
    {
      "cell_type": "code",
      "source": [
        "females = [dictionary for dictionary in name_stat if dictionary[\"gender\"]==\"female\"]\n",
        "numberOfFemales = len(females)\n",
        "print(numberOfFemales)"
      ],
      "metadata": {
        "colab": {
          "base_uri": "https://localhost:8080/"
        },
        "id": "U1GVIMr3crig",
        "outputId": "0825e6ea-aec4-4132-a809-bd036cc14e65"
      },
      "execution_count": null,
      "outputs": [
        {
          "output_type": "stream",
          "name": "stdout",
          "text": [
            "8\n"
          ]
        }
      ]
    },
    {
      "cell_type": "markdown",
      "source": [
        "# Task 2"
      ],
      "metadata": {
        "id": "fj17i397hFKL"
      }
    },
    {
      "cell_type": "code",
      "source": [
        "maxCount = max([dictionary[\"count\"] for dictionary in name_stat if dictionary[\"gender\"]==\"male\"])\n",
        "\n",
        "for dictionary in name_stat:\n",
        "  if dictionary[\"count\"] == maxCount:\n",
        "    print(dictionary[\"name\"])"
      ],
      "metadata": {
        "id": "WV1l1JTmhJpf",
        "colab": {
          "base_uri": "https://localhost:8080/"
        },
        "outputId": "a9b9f83f-246f-4363-c318-e3ce68de0ff3"
      },
      "execution_count": null,
      "outputs": [
        {
          "output_type": "stream",
          "name": "stdout",
          "text": [
            "James\n"
          ]
        }
      ]
    },
    {
      "cell_type": "markdown",
      "source": [
        "# Task 3"
      ],
      "metadata": {
        "id": "2YnPdcg6hMcr"
      }
    },
    {
      "cell_type": "code",
      "source": [
        "femaleNamesEnd_a = [int(dictionary[\"count\"]) for dictionary in name_stat if (dictionary[\"gender\"]==\"male\")]\n",
        "totCntOfFemaleNamesEnd_a = sum(femaleNamesEnd_a)\n",
        "print(totCntOfFemaleNamesEnd_a)"
      ],
      "metadata": {
        "colab": {
          "base_uri": "https://localhost:8080/"
        },
        "id": "EaaexW5KhJYw",
        "outputId": "1a1ed37d-7b48-4d7b-fa5a-0a5c7cc55ccb"
      },
      "execution_count": null,
      "outputs": [
        {
          "output_type": "stream",
          "name": "stdout",
          "text": [
            "48533979\n"
          ]
        }
      ]
    },
    {
      "cell_type": "code",
      "source": [],
      "metadata": {
        "id": "wbzcW5M1hLkK"
      },
      "execution_count": null,
      "outputs": []
    }
  ]
}