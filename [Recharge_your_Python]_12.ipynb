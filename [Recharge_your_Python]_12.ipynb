{
  "nbformat": 4,
  "nbformat_minor": 0,
  "metadata": {
    "colab": {
      "provenance": [],
      "mount_file_id": "1WlK7e02XAIe1cEGnSKhjsjRXZIhqteCG",
      "authorship_tag": "ABX9TyNkf8xTZ76dbfqZ9GszHNp/",
      "include_colab_link": true
    },
    "kernelspec": {
      "name": "python3",
      "display_name": "Python 3"
    },
    "language_info": {
      "name": "python"
    }
  },
  "cells": [
    {
      "cell_type": "markdown",
      "metadata": {
        "id": "view-in-github",
        "colab_type": "text"
      },
      "source": [
        "<a href=\"https://colab.research.google.com/github/LakshanJayawardana/RechargeYourPython/blob/Recharge-your-Python%5D-%2312/%5BRecharge_your_Python%5D_12.ipynb\" target=\"_parent\"><img src=\"https://colab.research.google.com/assets/colab-badge.svg\" alt=\"Open In Colab\"/></a>"
      ]
    },
    {
      "cell_type": "code",
      "execution_count": null,
      "metadata": {
        "id": "j0f5IFZtIh1X"
      },
      "outputs": [],
      "source": [
        "from pydrive.auth import GoogleAuth\n",
        "from pydrive.drive import GoogleDrive\n",
        "from google.colab import auth\n",
        "from oauth2client.client import GoogleCredentials\n",
        "import pandas as pd\n",
        "import os\n",
        " \n",
        " \n",
        "\n",
        "auth.authenticate_user()\n",
        "gauth = GoogleAuth()\n",
        "gauth.credentials = GoogleCredentials.get_application_default()\n",
        "drive = GoogleDrive(gauth)\n",
        "\n",
        "\n",
        "folder_path = '/content/drive/MyDrive/Folder12-20230328T094652Z-001/Folder12'"
      ]
    },
    {
      "cell_type": "code",
      "source": [],
      "metadata": {
        "id": "LkIhOwJmw1Wd"
      },
      "execution_count": null,
      "outputs": []
    },
    {
      "cell_type": "markdown",
      "source": [
        "# Task 1"
      ],
      "metadata": {
        "id": "07U1OxkytoYI"
      }
    },
    {
      "cell_type": "code",
      "source": [
        "def count_folders(path):\n",
        "    count = 0\n",
        "    for _, dirs, files in os.walk(path):\n",
        "        count += len(dirs)\n",
        "        print(dirs)\n",
        "    return count"
      ],
      "metadata": {
        "id": "2VuCdOAIqlJh"
      },
      "execution_count": null,
      "outputs": []
    },
    {
      "cell_type": "code",
      "source": [
        "num_folders = count_folders(folder_path)\n",
        "print(\"Number of folders: {}\".format( num_folders))"
      ],
      "metadata": {
        "colab": {
          "base_uri": "https://localhost:8080/"
        },
        "id": "WtkxZLQoq-Wg",
        "outputId": "38805d8e-3464-4e85-fcac-6517965fbefa"
      },
      "execution_count": null,
      "outputs": [
        {
          "output_type": "stream",
          "name": "stdout",
          "text": [
            "['v03', 'v02', 'v01', 'v04']\n",
            "['run34', 'run31', 'run32', 'run33']\n",
            "[]\n",
            "[]\n",
            "[]\n",
            "[]\n",
            "['run21', 'run22']\n",
            "[]\n",
            "[]\n",
            "['run12', 'run13', 'run11']\n",
            "[]\n",
            "[]\n",
            "[]\n",
            "['run41', 'run42']\n",
            "[]\n",
            "[]\n",
            "Number of folders: 15\n"
          ]
        }
      ]
    },
    {
      "cell_type": "markdown",
      "source": [
        "# Task 2"
      ],
      "metadata": {
        "id": "iMTK5mimsvkU"
      }
    },
    {
      "cell_type": "code",
      "source": [
        "def nuof_csv_files(path):\n",
        "    count = 0\n",
        "    \n",
        "    for root, dirs, files in os.walk(path):\n",
        "        for filename in files:\n",
        "            if filename.endswith(\".csv\"):\n",
        "                print(filename)\n",
        "                count += 1\n",
        "    print(files)\n",
        "    return count"
      ],
      "metadata": {
        "id": "VrUmwDQfrDPg"
      },
      "execution_count": null,
      "outputs": []
    },
    {
      "cell_type": "code",
      "source": [
        "num_csv_files = nuof_csv_files(folder_path)\n",
        "print(\"Number of CSV files: {}\".format(num_csv_files))"
      ],
      "metadata": {
        "colab": {
          "base_uri": "https://localhost:8080/"
        },
        "id": "y20vvtfss3ZI",
        "outputId": "2ff65cd7-0380-44f3-e74e-77a707cd8252"
      },
      "execution_count": null,
      "outputs": [
        {
          "output_type": "stream",
          "name": "stdout",
          "text": [
            "t150.csv\n",
            "t143.csv\n",
            "t142.csv\n",
            "t144.csv\n",
            "t147.csv\n",
            "t145.csv\n",
            "t146.csv\n",
            "t148.csv\n",
            "t149.csv\n",
            "t156.csv\n",
            "t155.csv\n",
            "t153.csv\n",
            "t154.csv\n",
            "t152.csv\n",
            "t151.csv\n",
            "t133.csv\n",
            "t132.csv\n",
            "t157.csv\n",
            "t131.csv\n",
            "t134.csv\n",
            "t140.csv\n",
            "t138.csv\n",
            "t139.csv\n",
            "t141.csv\n",
            "t137.csv\n",
            "t136.csv\n",
            "t135.csv\n",
            "['t137.csv', 't136.csv', 't135.csv']\n",
            "Number of CSV files: 27\n"
          ]
        }
      ]
    },
    {
      "cell_type": "markdown",
      "source": [
        "# Task 3"
      ],
      "metadata": {
        "id": "vMmW01FetleJ"
      }
    },
    {
      "cell_type": "code",
      "source": [
        "def find_largest_csv_file_size(path):\n",
        "    max_size = 100000\n",
        "    for root, dirs, filenames in os.walk(path):\n",
        "        for filename in filenames:\n",
        "            if filename.endswith(\".csv\"):\n",
        "                file_path = os.path.join(root, filename)\n",
        "                size = os.path.getsize(file_path)\n",
        "                if size < max_size:\n",
        "                    max_size = size\n",
        "    return max_size"
      ],
      "metadata": {
        "id": "6xSzED5Es66Q"
      },
      "execution_count": null,
      "outputs": []
    },
    {
      "cell_type": "code",
      "source": [
        "largest_csv_size = find_largest_csv_file_size(folder_path)\n",
        "print(\"Size in bytes of the largest CSV file: {}\".format(largest_csv_size))\n"
      ],
      "metadata": {
        "colab": {
          "base_uri": "https://localhost:8080/"
        },
        "id": "YRhPKUQWt1a4",
        "outputId": "53c53956-cbf5-496c-8404-8d2190e955f6"
      },
      "execution_count": null,
      "outputs": [
        {
          "output_type": "stream",
          "name": "stdout",
          "text": [
            "Size in bytes of the largest CSV file: 22\n"
          ]
        }
      ]
    },
    {
      "cell_type": "code",
      "source": [
        "def find_largest_csv_file_size(path):\n",
        "    min_size\n",
        "    for root, dirs, filenames in os.walk(path):\n",
        "        for filename in filenames:\n",
        "            if filename.endswith(\".csv\"):\n",
        "                file_path = os.path.join(root, filename)\n",
        "                size = os.path.getsize(file_path)\n",
        "                if size < min_size:\n",
        "                    min_size = size\n",
        "    return min_size"
      ],
      "metadata": {
        "id": "Bq3is5ert41Q"
      },
      "execution_count": null,
      "outputs": []
    },
    {
      "cell_type": "code",
      "source": [
        "largest_csv_size = find_largest_csv_file_size(folder_path)\n",
        "print(\"Size in bytes of the largest CSV file: {}\".format(largest_csv_size))\n"
      ],
      "metadata": {
        "id": "_qrHbWc5p4Lh",
        "colab": {
          "base_uri": "https://localhost:8080/",
          "height": 317
        },
        "outputId": "e8d58dd9-bc40-46e6-f597-0a0ff572124e"
      },
      "execution_count": null,
      "outputs": [
        {
          "output_type": "error",
          "ename": "UnboundLocalError",
          "evalue": "ignored",
          "traceback": [
            "\u001b[0;31m---------------------------------------------------------------------------\u001b[0m",
            "\u001b[0;31mUnboundLocalError\u001b[0m                         Traceback (most recent call last)",
            "\u001b[0;32m<ipython-input-20-a1f3728ee3bd>\u001b[0m in \u001b[0;36m<module>\u001b[0;34m\u001b[0m\n\u001b[0;32m----> 1\u001b[0;31m \u001b[0mlargest_csv_size\u001b[0m \u001b[0;34m=\u001b[0m \u001b[0mfind_largest_csv_file_size\u001b[0m\u001b[0;34m(\u001b[0m\u001b[0mfolder_path\u001b[0m\u001b[0;34m)\u001b[0m\u001b[0;34m\u001b[0m\u001b[0;34m\u001b[0m\u001b[0m\n\u001b[0m\u001b[1;32m      2\u001b[0m \u001b[0mprint\u001b[0m\u001b[0;34m(\u001b[0m\u001b[0;34m\"Size in bytes of the largest CSV file: {}\"\u001b[0m\u001b[0;34m.\u001b[0m\u001b[0mformat\u001b[0m\u001b[0;34m(\u001b[0m\u001b[0mlargest_csv_size\u001b[0m\u001b[0;34m)\u001b[0m\u001b[0;34m)\u001b[0m\u001b[0;34m\u001b[0m\u001b[0;34m\u001b[0m\u001b[0m\n",
            "\u001b[0;32m<ipython-input-19-dbc008486379>\u001b[0m in \u001b[0;36mfind_largest_csv_file_size\u001b[0;34m(path)\u001b[0m\n\u001b[1;32m      1\u001b[0m \u001b[0;32mdef\u001b[0m \u001b[0mfind_largest_csv_file_size\u001b[0m\u001b[0;34m(\u001b[0m\u001b[0mpath\u001b[0m\u001b[0;34m)\u001b[0m\u001b[0;34m:\u001b[0m\u001b[0;34m\u001b[0m\u001b[0;34m\u001b[0m\u001b[0m\n\u001b[0;32m----> 2\u001b[0;31m     \u001b[0mmin_size\u001b[0m\u001b[0;34m\u001b[0m\u001b[0;34m\u001b[0m\u001b[0m\n\u001b[0m\u001b[1;32m      3\u001b[0m     \u001b[0;32mfor\u001b[0m \u001b[0mroot\u001b[0m\u001b[0;34m,\u001b[0m \u001b[0mdirs\u001b[0m\u001b[0;34m,\u001b[0m \u001b[0mfilenames\u001b[0m \u001b[0;32min\u001b[0m \u001b[0mos\u001b[0m\u001b[0;34m.\u001b[0m\u001b[0mwalk\u001b[0m\u001b[0;34m(\u001b[0m\u001b[0mpath\u001b[0m\u001b[0;34m)\u001b[0m\u001b[0;34m:\u001b[0m\u001b[0;34m\u001b[0m\u001b[0;34m\u001b[0m\u001b[0m\n\u001b[1;32m      4\u001b[0m         \u001b[0;32mfor\u001b[0m \u001b[0mfilename\u001b[0m \u001b[0;32min\u001b[0m \u001b[0mfilenames\u001b[0m\u001b[0;34m:\u001b[0m\u001b[0;34m\u001b[0m\u001b[0;34m\u001b[0m\u001b[0m\n\u001b[1;32m      5\u001b[0m             \u001b[0;32mif\u001b[0m \u001b[0mfilename\u001b[0m\u001b[0;34m.\u001b[0m\u001b[0mendswith\u001b[0m\u001b[0;34m(\u001b[0m\u001b[0;34m\".csv\"\u001b[0m\u001b[0;34m)\u001b[0m\u001b[0;34m:\u001b[0m\u001b[0;34m\u001b[0m\u001b[0;34m\u001b[0m\u001b[0m\n",
            "\u001b[0;31mUnboundLocalError\u001b[0m: local variable 'min_size' referenced before assignment"
          ]
        }
      ]
    },
    {
      "cell_type": "code",
      "source": [],
      "metadata": {
        "id": "XZz08gS8LaRX"
      },
      "execution_count": null,
      "outputs": []
    }
  ]
}