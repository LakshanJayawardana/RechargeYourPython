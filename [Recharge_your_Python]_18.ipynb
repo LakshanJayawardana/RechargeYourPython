{
  "nbformat": 4,
  "nbformat_minor": 0,
  "metadata": {
    "colab": {
      "provenance": [],
      "authorship_tag": "ABX9TyNQ8BEo5WGeSXqpt6tFPgQB",
      "include_colab_link": true
    },
    "kernelspec": {
      "name": "python3",
      "display_name": "Python 3"
    },
    "language_info": {
      "name": "python"
    }
  },
  "cells": [
    {
      "cell_type": "markdown",
      "metadata": {
        "id": "view-in-github",
        "colab_type": "text"
      },
      "source": [
        "<a href=\"https://colab.research.google.com/github/LakshanJayawardana/RechargeYourPython/blob/Recharge-your-Python%5D-%2318/%5BRecharge_your_Python%5D_18.ipynb\" target=\"_parent\"><img src=\"https://colab.research.google.com/assets/colab-badge.svg\" alt=\"Open In Colab\"/></a>"
      ]
    },
    {
      "cell_type": "markdown",
      "source": [
        "# Task 1"
      ],
      "metadata": {
        "id": "GlWMR_-R8OGc"
      }
    },
    {
      "cell_type": "code",
      "execution_count": null,
      "metadata": {
        "id": "ZNGLYBOkjrbR",
        "colab": {
          "base_uri": "https://localhost:8080/"
        },
        "outputId": "7321a3f9-57c2-4873-a68b-1a6c3282de38"
      },
      "outputs": [
        {
          "output_type": "stream",
          "name": "stdout",
          "text": [
            "['B']\n",
            "['B', 'D']\n",
            "['B', 'D', 'B']\n",
            "['B', 'D', 'B', 'D']\n",
            "['B', 'D', 'B', 'D', 'B']\n",
            "['B', 'D', 'B', 'D', 'B', 'C']\n",
            "['B', 'D', 'B', 'D', 'B', 'C', 'E']\n",
            "['B', 'D', 'B', 'D', 'B', 'C', 'E', 'C']\n",
            "Which sequence of states corresponds to the input sequence '10101101'? C\n"
          ]
        }
      ],
      "source": [
        "transition_function = {\n",
        "    'A': {'0': 'A', '1': 'B'},\n",
        "    'B': {'0': 'D', '1': 'C'},\n",
        "    'C': {'1': 'A', '0': 'E'},\n",
        "    'D': {'0': 'D', '1': 'B'},\n",
        "    'E': {'0': 'E', '1': 'C'},\n",
        "}\n",
        "\n",
        "\n",
        "#final_states = {'D'}\n",
        "\n",
        "def simulate(input_string):\n",
        "    current_state = 'A' \n",
        "    seq = []\n",
        "    for symbol in input_string:\n",
        "        \n",
        "        current_state = transition_function[current_state][symbol]\n",
        "        seq.append(current_state)\n",
        "        print(seq)\n",
        "        \n",
        "    return current_state\n",
        "\n",
        "\n",
        "print(\"Which sequence of states corresponds to the input sequence '10101101'?\",simulate('10101101'))  \n",
        "\n"
      ]
    },
    {
      "cell_type": "markdown",
      "source": [
        "# Task 2"
      ],
      "metadata": {
        "id": "1c_6J8JQ8XSU"
      }
    },
    {
      "cell_type": "code",
      "source": [
        "print(\"What will be the final state for the input sequence '1101110101111'?\",simulate('11010'))  "
      ],
      "metadata": {
        "colab": {
          "base_uri": "https://localhost:8080/"
        },
        "id": "DvjyyFu78auR",
        "outputId": "1d62ff4c-44b0-4f21-eea6-58c090b40de5"
      },
      "execution_count": null,
      "outputs": [
        {
          "output_type": "stream",
          "name": "stdout",
          "text": [
            "['B']\n",
            "['B', 'C']\n",
            "['B', 'C', 'E']\n",
            "['B', 'C', 'E', 'C']\n",
            "['B', 'C', 'E', 'C', 'E']\n",
            "What will be the final state for the input sequence '1101110101111'? E\n"
          ]
        }
      ]
    },
    {
      "cell_type": "markdown",
      "source": [
        "# Task 3"
      ],
      "metadata": {
        "id": "WqIqoe-f90VR"
      }
    },
    {
      "cell_type": "code",
      "source": [
        "\n",
        "def compute_sequence(binary_sequence):\n",
        "    input_string = ''.join('01'[int(b)] for b in binary_sequence)  \n",
        "    sequence = ['A']  \n",
        "    for symbol in input_string:\n",
        "        next_state = transition_function[sequence[-1]][symbol]  \n",
        "        sequence.append(next_state)  \n",
        "    return sequence\n",
        "\n",
        "sequences = [compute_sequence(format(n, '07b')) for n in range(128)]\n",
        "\n",
        "num_e = sum(1 for seq in sequences if seq[-1] == 'E')\n",
        "\n",
        "percent_e = round(num_e / len(sequences) * 100)\n",
        "\n",
        "print(f\"The final state 'E' is reached in {percent_e}% of binary sequences of length 7.\")\n"
      ],
      "metadata": {
        "colab": {
          "base_uri": "https://localhost:8080/"
        },
        "id": "Mpl3wRY_VtJ6",
        "outputId": "35627b8b-096f-4aa5-c7f3-82a356263acb"
      },
      "execution_count": null,
      "outputs": [
        {
          "output_type": "stream",
          "name": "stdout",
          "text": [
            "The final state 'E' is reached in 18% of binary sequences of length 7.\n"
          ]
        }
      ]
    },
    {
      "cell_type": "markdown",
      "source": [
        "What will be the final state for the input sequence '11011'*20?"
      ],
      "metadata": {
        "id": "lqDYn6Vr9kbm"
      }
    },
    {
      "cell_type": "code",
      "source": [
        "input_sequence = '11010' * 20"
      ],
      "metadata": {
        "id": "006cSep_8ZYB"
      },
      "execution_count": null,
      "outputs": []
    },
    {
      "cell_type": "code",
      "source": [
        "print(\"What will be the final state for the input sequence ''11010' * 20'?\",simulate(input_sequence))"
      ],
      "metadata": {
        "id": "VFNby3tFW809",
        "colab": {
          "base_uri": "https://localhost:8080/"
        },
        "outputId": "7dd0edbe-5c4d-4482-87a6-ba639049ffb5"
      },
      "execution_count": null,
      "outputs": [
        {
          "output_type": "stream",
          "name": "stdout",
          "text": [
            "['B']\n",
            "['B', 'C']\n",
            "['B', 'C', 'E']\n",
            "['B', 'C', 'E', 'C']\n",
            "['B', 'C', 'E', 'C', 'E']\n",
            "['B', 'C', 'E', 'C', 'E', 'C']\n",
            "['B', 'C', 'E', 'C', 'E', 'C', 'A']\n",
            "['B', 'C', 'E', 'C', 'E', 'C', 'A', 'A']\n",
            "['B', 'C', 'E', 'C', 'E', 'C', 'A', 'A', 'B']\n",
            "['B', 'C', 'E', 'C', 'E', 'C', 'A', 'A', 'B', 'D']\n",
            "['B', 'C', 'E', 'C', 'E', 'C', 'A', 'A', 'B', 'D', 'B']\n",
            "['B', 'C', 'E', 'C', 'E', 'C', 'A', 'A', 'B', 'D', 'B', 'C']\n",
            "['B', 'C', 'E', 'C', 'E', 'C', 'A', 'A', 'B', 'D', 'B', 'C', 'E']\n",
            "['B', 'C', 'E', 'C', 'E', 'C', 'A', 'A', 'B', 'D', 'B', 'C', 'E', 'C']\n",
            "['B', 'C', 'E', 'C', 'E', 'C', 'A', 'A', 'B', 'D', 'B', 'C', 'E', 'C', 'E']\n",
            "['B', 'C', 'E', 'C', 'E', 'C', 'A', 'A', 'B', 'D', 'B', 'C', 'E', 'C', 'E', 'C']\n",
            "['B', 'C', 'E', 'C', 'E', 'C', 'A', 'A', 'B', 'D', 'B', 'C', 'E', 'C', 'E', 'C', 'A']\n",
            "['B', 'C', 'E', 'C', 'E', 'C', 'A', 'A', 'B', 'D', 'B', 'C', 'E', 'C', 'E', 'C', 'A', 'A']\n",
            "['B', 'C', 'E', 'C', 'E', 'C', 'A', 'A', 'B', 'D', 'B', 'C', 'E', 'C', 'E', 'C', 'A', 'A', 'B']\n",
            "['B', 'C', 'E', 'C', 'E', 'C', 'A', 'A', 'B', 'D', 'B', 'C', 'E', 'C', 'E', 'C', 'A', 'A', 'B', 'D']\n",
            "['B', 'C', 'E', 'C', 'E', 'C', 'A', 'A', 'B', 'D', 'B', 'C', 'E', 'C', 'E', 'C', 'A', 'A', 'B', 'D', 'B']\n",
            "['B', 'C', 'E', 'C', 'E', 'C', 'A', 'A', 'B', 'D', 'B', 'C', 'E', 'C', 'E', 'C', 'A', 'A', 'B', 'D', 'B', 'C']\n",
            "['B', 'C', 'E', 'C', 'E', 'C', 'A', 'A', 'B', 'D', 'B', 'C', 'E', 'C', 'E', 'C', 'A', 'A', 'B', 'D', 'B', 'C', 'E']\n",
            "['B', 'C', 'E', 'C', 'E', 'C', 'A', 'A', 'B', 'D', 'B', 'C', 'E', 'C', 'E', 'C', 'A', 'A', 'B', 'D', 'B', 'C', 'E', 'C']\n",
            "['B', 'C', 'E', 'C', 'E', 'C', 'A', 'A', 'B', 'D', 'B', 'C', 'E', 'C', 'E', 'C', 'A', 'A', 'B', 'D', 'B', 'C', 'E', 'C', 'E']\n",
            "['B', 'C', 'E', 'C', 'E', 'C', 'A', 'A', 'B', 'D', 'B', 'C', 'E', 'C', 'E', 'C', 'A', 'A', 'B', 'D', 'B', 'C', 'E', 'C', 'E', 'C']\n",
            "['B', 'C', 'E', 'C', 'E', 'C', 'A', 'A', 'B', 'D', 'B', 'C', 'E', 'C', 'E', 'C', 'A', 'A', 'B', 'D', 'B', 'C', 'E', 'C', 'E', 'C', 'A']\n",
            "['B', 'C', 'E', 'C', 'E', 'C', 'A', 'A', 'B', 'D', 'B', 'C', 'E', 'C', 'E', 'C', 'A', 'A', 'B', 'D', 'B', 'C', 'E', 'C', 'E', 'C', 'A', 'A']\n",
            "['B', 'C', 'E', 'C', 'E', 'C', 'A', 'A', 'B', 'D', 'B', 'C', 'E', 'C', 'E', 'C', 'A', 'A', 'B', 'D', 'B', 'C', 'E', 'C', 'E', 'C', 'A', 'A', 'B']\n",
            "['B', 'C', 'E', 'C', 'E', 'C', 'A', 'A', 'B', 'D', 'B', 'C', 'E', 'C', 'E', 'C', 'A', 'A', 'B', 'D', 'B', 'C', 'E', 'C', 'E', 'C', 'A', 'A', 'B', 'D']\n",
            "['B', 'C', 'E', 'C', 'E', 'C', 'A', 'A', 'B', 'D', 'B', 'C', 'E', 'C', 'E', 'C', 'A', 'A', 'B', 'D', 'B', 'C', 'E', 'C', 'E', 'C', 'A', 'A', 'B', 'D', 'B']\n",
            "['B', 'C', 'E', 'C', 'E', 'C', 'A', 'A', 'B', 'D', 'B', 'C', 'E', 'C', 'E', 'C', 'A', 'A', 'B', 'D', 'B', 'C', 'E', 'C', 'E', 'C', 'A', 'A', 'B', 'D', 'B', 'C']\n",
            "['B', 'C', 'E', 'C', 'E', 'C', 'A', 'A', 'B', 'D', 'B', 'C', 'E', 'C', 'E', 'C', 'A', 'A', 'B', 'D', 'B', 'C', 'E', 'C', 'E', 'C', 'A', 'A', 'B', 'D', 'B', 'C', 'E']\n",
            "['B', 'C', 'E', 'C', 'E', 'C', 'A', 'A', 'B', 'D', 'B', 'C', 'E', 'C', 'E', 'C', 'A', 'A', 'B', 'D', 'B', 'C', 'E', 'C', 'E', 'C', 'A', 'A', 'B', 'D', 'B', 'C', 'E', 'C']\n",
            "['B', 'C', 'E', 'C', 'E', 'C', 'A', 'A', 'B', 'D', 'B', 'C', 'E', 'C', 'E', 'C', 'A', 'A', 'B', 'D', 'B', 'C', 'E', 'C', 'E', 'C', 'A', 'A', 'B', 'D', 'B', 'C', 'E', 'C', 'E']\n",
            "['B', 'C', 'E', 'C', 'E', 'C', 'A', 'A', 'B', 'D', 'B', 'C', 'E', 'C', 'E', 'C', 'A', 'A', 'B', 'D', 'B', 'C', 'E', 'C', 'E', 'C', 'A', 'A', 'B', 'D', 'B', 'C', 'E', 'C', 'E', 'C']\n",
            "['B', 'C', 'E', 'C', 'E', 'C', 'A', 'A', 'B', 'D', 'B', 'C', 'E', 'C', 'E', 'C', 'A', 'A', 'B', 'D', 'B', 'C', 'E', 'C', 'E', 'C', 'A', 'A', 'B', 'D', 'B', 'C', 'E', 'C', 'E', 'C', 'A']\n",
            "['B', 'C', 'E', 'C', 'E', 'C', 'A', 'A', 'B', 'D', 'B', 'C', 'E', 'C', 'E', 'C', 'A', 'A', 'B', 'D', 'B', 'C', 'E', 'C', 'E', 'C', 'A', 'A', 'B', 'D', 'B', 'C', 'E', 'C', 'E', 'C', 'A', 'A']\n",
            "['B', 'C', 'E', 'C', 'E', 'C', 'A', 'A', 'B', 'D', 'B', 'C', 'E', 'C', 'E', 'C', 'A', 'A', 'B', 'D', 'B', 'C', 'E', 'C', 'E', 'C', 'A', 'A', 'B', 'D', 'B', 'C', 'E', 'C', 'E', 'C', 'A', 'A', 'B']\n",
            "['B', 'C', 'E', 'C', 'E', 'C', 'A', 'A', 'B', 'D', 'B', 'C', 'E', 'C', 'E', 'C', 'A', 'A', 'B', 'D', 'B', 'C', 'E', 'C', 'E', 'C', 'A', 'A', 'B', 'D', 'B', 'C', 'E', 'C', 'E', 'C', 'A', 'A', 'B', 'D']\n",
            "['B', 'C', 'E', 'C', 'E', 'C', 'A', 'A', 'B', 'D', 'B', 'C', 'E', 'C', 'E', 'C', 'A', 'A', 'B', 'D', 'B', 'C', 'E', 'C', 'E', 'C', 'A', 'A', 'B', 'D', 'B', 'C', 'E', 'C', 'E', 'C', 'A', 'A', 'B', 'D', 'B']\n",
            "['B', 'C', 'E', 'C', 'E', 'C', 'A', 'A', 'B', 'D', 'B', 'C', 'E', 'C', 'E', 'C', 'A', 'A', 'B', 'D', 'B', 'C', 'E', 'C', 'E', 'C', 'A', 'A', 'B', 'D', 'B', 'C', 'E', 'C', 'E', 'C', 'A', 'A', 'B', 'D', 'B', 'C']\n",
            "['B', 'C', 'E', 'C', 'E', 'C', 'A', 'A', 'B', 'D', 'B', 'C', 'E', 'C', 'E', 'C', 'A', 'A', 'B', 'D', 'B', 'C', 'E', 'C', 'E', 'C', 'A', 'A', 'B', 'D', 'B', 'C', 'E', 'C', 'E', 'C', 'A', 'A', 'B', 'D', 'B', 'C', 'E']\n",
            "['B', 'C', 'E', 'C', 'E', 'C', 'A', 'A', 'B', 'D', 'B', 'C', 'E', 'C', 'E', 'C', 'A', 'A', 'B', 'D', 'B', 'C', 'E', 'C', 'E', 'C', 'A', 'A', 'B', 'D', 'B', 'C', 'E', 'C', 'E', 'C', 'A', 'A', 'B', 'D', 'B', 'C', 'E', 'C']\n",
            "['B', 'C', 'E', 'C', 'E', 'C', 'A', 'A', 'B', 'D', 'B', 'C', 'E', 'C', 'E', 'C', 'A', 'A', 'B', 'D', 'B', 'C', 'E', 'C', 'E', 'C', 'A', 'A', 'B', 'D', 'B', 'C', 'E', 'C', 'E', 'C', 'A', 'A', 'B', 'D', 'B', 'C', 'E', 'C', 'E']\n",
            "['B', 'C', 'E', 'C', 'E', 'C', 'A', 'A', 'B', 'D', 'B', 'C', 'E', 'C', 'E', 'C', 'A', 'A', 'B', 'D', 'B', 'C', 'E', 'C', 'E', 'C', 'A', 'A', 'B', 'D', 'B', 'C', 'E', 'C', 'E', 'C', 'A', 'A', 'B', 'D', 'B', 'C', 'E', 'C', 'E', 'C']\n",
            "['B', 'C', 'E', 'C', 'E', 'C', 'A', 'A', 'B', 'D', 'B', 'C', 'E', 'C', 'E', 'C', 'A', 'A', 'B', 'D', 'B', 'C', 'E', 'C', 'E', 'C', 'A', 'A', 'B', 'D', 'B', 'C', 'E', 'C', 'E', 'C', 'A', 'A', 'B', 'D', 'B', 'C', 'E', 'C', 'E', 'C', 'A']\n",
            "['B', 'C', 'E', 'C', 'E', 'C', 'A', 'A', 'B', 'D', 'B', 'C', 'E', 'C', 'E', 'C', 'A', 'A', 'B', 'D', 'B', 'C', 'E', 'C', 'E', 'C', 'A', 'A', 'B', 'D', 'B', 'C', 'E', 'C', 'E', 'C', 'A', 'A', 'B', 'D', 'B', 'C', 'E', 'C', 'E', 'C', 'A', 'A']\n",
            "['B', 'C', 'E', 'C', 'E', 'C', 'A', 'A', 'B', 'D', 'B', 'C', 'E', 'C', 'E', 'C', 'A', 'A', 'B', 'D', 'B', 'C', 'E', 'C', 'E', 'C', 'A', 'A', 'B', 'D', 'B', 'C', 'E', 'C', 'E', 'C', 'A', 'A', 'B', 'D', 'B', 'C', 'E', 'C', 'E', 'C', 'A', 'A', 'B']\n",
            "['B', 'C', 'E', 'C', 'E', 'C', 'A', 'A', 'B', 'D', 'B', 'C', 'E', 'C', 'E', 'C', 'A', 'A', 'B', 'D', 'B', 'C', 'E', 'C', 'E', 'C', 'A', 'A', 'B', 'D', 'B', 'C', 'E', 'C', 'E', 'C', 'A', 'A', 'B', 'D', 'B', 'C', 'E', 'C', 'E', 'C', 'A', 'A', 'B', 'D']\n",
            "['B', 'C', 'E', 'C', 'E', 'C', 'A', 'A', 'B', 'D', 'B', 'C', 'E', 'C', 'E', 'C', 'A', 'A', 'B', 'D', 'B', 'C', 'E', 'C', 'E', 'C', 'A', 'A', 'B', 'D', 'B', 'C', 'E', 'C', 'E', 'C', 'A', 'A', 'B', 'D', 'B', 'C', 'E', 'C', 'E', 'C', 'A', 'A', 'B', 'D', 'B']\n",
            "['B', 'C', 'E', 'C', 'E', 'C', 'A', 'A', 'B', 'D', 'B', 'C', 'E', 'C', 'E', 'C', 'A', 'A', 'B', 'D', 'B', 'C', 'E', 'C', 'E', 'C', 'A', 'A', 'B', 'D', 'B', 'C', 'E', 'C', 'E', 'C', 'A', 'A', 'B', 'D', 'B', 'C', 'E', 'C', 'E', 'C', 'A', 'A', 'B', 'D', 'B', 'C']\n",
            "['B', 'C', 'E', 'C', 'E', 'C', 'A', 'A', 'B', 'D', 'B', 'C', 'E', 'C', 'E', 'C', 'A', 'A', 'B', 'D', 'B', 'C', 'E', 'C', 'E', 'C', 'A', 'A', 'B', 'D', 'B', 'C', 'E', 'C', 'E', 'C', 'A', 'A', 'B', 'D', 'B', 'C', 'E', 'C', 'E', 'C', 'A', 'A', 'B', 'D', 'B', 'C', 'E']\n",
            "['B', 'C', 'E', 'C', 'E', 'C', 'A', 'A', 'B', 'D', 'B', 'C', 'E', 'C', 'E', 'C', 'A', 'A', 'B', 'D', 'B', 'C', 'E', 'C', 'E', 'C', 'A', 'A', 'B', 'D', 'B', 'C', 'E', 'C', 'E', 'C', 'A', 'A', 'B', 'D', 'B', 'C', 'E', 'C', 'E', 'C', 'A', 'A', 'B', 'D', 'B', 'C', 'E', 'C']\n",
            "['B', 'C', 'E', 'C', 'E', 'C', 'A', 'A', 'B', 'D', 'B', 'C', 'E', 'C', 'E', 'C', 'A', 'A', 'B', 'D', 'B', 'C', 'E', 'C', 'E', 'C', 'A', 'A', 'B', 'D', 'B', 'C', 'E', 'C', 'E', 'C', 'A', 'A', 'B', 'D', 'B', 'C', 'E', 'C', 'E', 'C', 'A', 'A', 'B', 'D', 'B', 'C', 'E', 'C', 'E']\n",
            "['B', 'C', 'E', 'C', 'E', 'C', 'A', 'A', 'B', 'D', 'B', 'C', 'E', 'C', 'E', 'C', 'A', 'A', 'B', 'D', 'B', 'C', 'E', 'C', 'E', 'C', 'A', 'A', 'B', 'D', 'B', 'C', 'E', 'C', 'E', 'C', 'A', 'A', 'B', 'D', 'B', 'C', 'E', 'C', 'E', 'C', 'A', 'A', 'B', 'D', 'B', 'C', 'E', 'C', 'E', 'C']\n",
            "['B', 'C', 'E', 'C', 'E', 'C', 'A', 'A', 'B', 'D', 'B', 'C', 'E', 'C', 'E', 'C', 'A', 'A', 'B', 'D', 'B', 'C', 'E', 'C', 'E', 'C', 'A', 'A', 'B', 'D', 'B', 'C', 'E', 'C', 'E', 'C', 'A', 'A', 'B', 'D', 'B', 'C', 'E', 'C', 'E', 'C', 'A', 'A', 'B', 'D', 'B', 'C', 'E', 'C', 'E', 'C', 'A']\n",
            "['B', 'C', 'E', 'C', 'E', 'C', 'A', 'A', 'B', 'D', 'B', 'C', 'E', 'C', 'E', 'C', 'A', 'A', 'B', 'D', 'B', 'C', 'E', 'C', 'E', 'C', 'A', 'A', 'B', 'D', 'B', 'C', 'E', 'C', 'E', 'C', 'A', 'A', 'B', 'D', 'B', 'C', 'E', 'C', 'E', 'C', 'A', 'A', 'B', 'D', 'B', 'C', 'E', 'C', 'E', 'C', 'A', 'A']\n",
            "['B', 'C', 'E', 'C', 'E', 'C', 'A', 'A', 'B', 'D', 'B', 'C', 'E', 'C', 'E', 'C', 'A', 'A', 'B', 'D', 'B', 'C', 'E', 'C', 'E', 'C', 'A', 'A', 'B', 'D', 'B', 'C', 'E', 'C', 'E', 'C', 'A', 'A', 'B', 'D', 'B', 'C', 'E', 'C', 'E', 'C', 'A', 'A', 'B', 'D', 'B', 'C', 'E', 'C', 'E', 'C', 'A', 'A', 'B']\n",
            "['B', 'C', 'E', 'C', 'E', 'C', 'A', 'A', 'B', 'D', 'B', 'C', 'E', 'C', 'E', 'C', 'A', 'A', 'B', 'D', 'B', 'C', 'E', 'C', 'E', 'C', 'A', 'A', 'B', 'D', 'B', 'C', 'E', 'C', 'E', 'C', 'A', 'A', 'B', 'D', 'B', 'C', 'E', 'C', 'E', 'C', 'A', 'A', 'B', 'D', 'B', 'C', 'E', 'C', 'E', 'C', 'A', 'A', 'B', 'D']\n",
            "['B', 'C', 'E', 'C', 'E', 'C', 'A', 'A', 'B', 'D', 'B', 'C', 'E', 'C', 'E', 'C', 'A', 'A', 'B', 'D', 'B', 'C', 'E', 'C', 'E', 'C', 'A', 'A', 'B', 'D', 'B', 'C', 'E', 'C', 'E', 'C', 'A', 'A', 'B', 'D', 'B', 'C', 'E', 'C', 'E', 'C', 'A', 'A', 'B', 'D', 'B', 'C', 'E', 'C', 'E', 'C', 'A', 'A', 'B', 'D', 'B']\n",
            "['B', 'C', 'E', 'C', 'E', 'C', 'A', 'A', 'B', 'D', 'B', 'C', 'E', 'C', 'E', 'C', 'A', 'A', 'B', 'D', 'B', 'C', 'E', 'C', 'E', 'C', 'A', 'A', 'B', 'D', 'B', 'C', 'E', 'C', 'E', 'C', 'A', 'A', 'B', 'D', 'B', 'C', 'E', 'C', 'E', 'C', 'A', 'A', 'B', 'D', 'B', 'C', 'E', 'C', 'E', 'C', 'A', 'A', 'B', 'D', 'B', 'C']\n",
            "['B', 'C', 'E', 'C', 'E', 'C', 'A', 'A', 'B', 'D', 'B', 'C', 'E', 'C', 'E', 'C', 'A', 'A', 'B', 'D', 'B', 'C', 'E', 'C', 'E', 'C', 'A', 'A', 'B', 'D', 'B', 'C', 'E', 'C', 'E', 'C', 'A', 'A', 'B', 'D', 'B', 'C', 'E', 'C', 'E', 'C', 'A', 'A', 'B', 'D', 'B', 'C', 'E', 'C', 'E', 'C', 'A', 'A', 'B', 'D', 'B', 'C', 'E']\n",
            "['B', 'C', 'E', 'C', 'E', 'C', 'A', 'A', 'B', 'D', 'B', 'C', 'E', 'C', 'E', 'C', 'A', 'A', 'B', 'D', 'B', 'C', 'E', 'C', 'E', 'C', 'A', 'A', 'B', 'D', 'B', 'C', 'E', 'C', 'E', 'C', 'A', 'A', 'B', 'D', 'B', 'C', 'E', 'C', 'E', 'C', 'A', 'A', 'B', 'D', 'B', 'C', 'E', 'C', 'E', 'C', 'A', 'A', 'B', 'D', 'B', 'C', 'E', 'C']\n",
            "['B', 'C', 'E', 'C', 'E', 'C', 'A', 'A', 'B', 'D', 'B', 'C', 'E', 'C', 'E', 'C', 'A', 'A', 'B', 'D', 'B', 'C', 'E', 'C', 'E', 'C', 'A', 'A', 'B', 'D', 'B', 'C', 'E', 'C', 'E', 'C', 'A', 'A', 'B', 'D', 'B', 'C', 'E', 'C', 'E', 'C', 'A', 'A', 'B', 'D', 'B', 'C', 'E', 'C', 'E', 'C', 'A', 'A', 'B', 'D', 'B', 'C', 'E', 'C', 'E']\n",
            "['B', 'C', 'E', 'C', 'E', 'C', 'A', 'A', 'B', 'D', 'B', 'C', 'E', 'C', 'E', 'C', 'A', 'A', 'B', 'D', 'B', 'C', 'E', 'C', 'E', 'C', 'A', 'A', 'B', 'D', 'B', 'C', 'E', 'C', 'E', 'C', 'A', 'A', 'B', 'D', 'B', 'C', 'E', 'C', 'E', 'C', 'A', 'A', 'B', 'D', 'B', 'C', 'E', 'C', 'E', 'C', 'A', 'A', 'B', 'D', 'B', 'C', 'E', 'C', 'E', 'C']\n",
            "['B', 'C', 'E', 'C', 'E', 'C', 'A', 'A', 'B', 'D', 'B', 'C', 'E', 'C', 'E', 'C', 'A', 'A', 'B', 'D', 'B', 'C', 'E', 'C', 'E', 'C', 'A', 'A', 'B', 'D', 'B', 'C', 'E', 'C', 'E', 'C', 'A', 'A', 'B', 'D', 'B', 'C', 'E', 'C', 'E', 'C', 'A', 'A', 'B', 'D', 'B', 'C', 'E', 'C', 'E', 'C', 'A', 'A', 'B', 'D', 'B', 'C', 'E', 'C', 'E', 'C', 'A']\n",
            "['B', 'C', 'E', 'C', 'E', 'C', 'A', 'A', 'B', 'D', 'B', 'C', 'E', 'C', 'E', 'C', 'A', 'A', 'B', 'D', 'B', 'C', 'E', 'C', 'E', 'C', 'A', 'A', 'B', 'D', 'B', 'C', 'E', 'C', 'E', 'C', 'A', 'A', 'B', 'D', 'B', 'C', 'E', 'C', 'E', 'C', 'A', 'A', 'B', 'D', 'B', 'C', 'E', 'C', 'E', 'C', 'A', 'A', 'B', 'D', 'B', 'C', 'E', 'C', 'E', 'C', 'A', 'A']\n",
            "['B', 'C', 'E', 'C', 'E', 'C', 'A', 'A', 'B', 'D', 'B', 'C', 'E', 'C', 'E', 'C', 'A', 'A', 'B', 'D', 'B', 'C', 'E', 'C', 'E', 'C', 'A', 'A', 'B', 'D', 'B', 'C', 'E', 'C', 'E', 'C', 'A', 'A', 'B', 'D', 'B', 'C', 'E', 'C', 'E', 'C', 'A', 'A', 'B', 'D', 'B', 'C', 'E', 'C', 'E', 'C', 'A', 'A', 'B', 'D', 'B', 'C', 'E', 'C', 'E', 'C', 'A', 'A', 'B']\n",
            "['B', 'C', 'E', 'C', 'E', 'C', 'A', 'A', 'B', 'D', 'B', 'C', 'E', 'C', 'E', 'C', 'A', 'A', 'B', 'D', 'B', 'C', 'E', 'C', 'E', 'C', 'A', 'A', 'B', 'D', 'B', 'C', 'E', 'C', 'E', 'C', 'A', 'A', 'B', 'D', 'B', 'C', 'E', 'C', 'E', 'C', 'A', 'A', 'B', 'D', 'B', 'C', 'E', 'C', 'E', 'C', 'A', 'A', 'B', 'D', 'B', 'C', 'E', 'C', 'E', 'C', 'A', 'A', 'B', 'D']\n",
            "['B', 'C', 'E', 'C', 'E', 'C', 'A', 'A', 'B', 'D', 'B', 'C', 'E', 'C', 'E', 'C', 'A', 'A', 'B', 'D', 'B', 'C', 'E', 'C', 'E', 'C', 'A', 'A', 'B', 'D', 'B', 'C', 'E', 'C', 'E', 'C', 'A', 'A', 'B', 'D', 'B', 'C', 'E', 'C', 'E', 'C', 'A', 'A', 'B', 'D', 'B', 'C', 'E', 'C', 'E', 'C', 'A', 'A', 'B', 'D', 'B', 'C', 'E', 'C', 'E', 'C', 'A', 'A', 'B', 'D', 'B']\n",
            "['B', 'C', 'E', 'C', 'E', 'C', 'A', 'A', 'B', 'D', 'B', 'C', 'E', 'C', 'E', 'C', 'A', 'A', 'B', 'D', 'B', 'C', 'E', 'C', 'E', 'C', 'A', 'A', 'B', 'D', 'B', 'C', 'E', 'C', 'E', 'C', 'A', 'A', 'B', 'D', 'B', 'C', 'E', 'C', 'E', 'C', 'A', 'A', 'B', 'D', 'B', 'C', 'E', 'C', 'E', 'C', 'A', 'A', 'B', 'D', 'B', 'C', 'E', 'C', 'E', 'C', 'A', 'A', 'B', 'D', 'B', 'C']\n",
            "['B', 'C', 'E', 'C', 'E', 'C', 'A', 'A', 'B', 'D', 'B', 'C', 'E', 'C', 'E', 'C', 'A', 'A', 'B', 'D', 'B', 'C', 'E', 'C', 'E', 'C', 'A', 'A', 'B', 'D', 'B', 'C', 'E', 'C', 'E', 'C', 'A', 'A', 'B', 'D', 'B', 'C', 'E', 'C', 'E', 'C', 'A', 'A', 'B', 'D', 'B', 'C', 'E', 'C', 'E', 'C', 'A', 'A', 'B', 'D', 'B', 'C', 'E', 'C', 'E', 'C', 'A', 'A', 'B', 'D', 'B', 'C', 'E']\n",
            "['B', 'C', 'E', 'C', 'E', 'C', 'A', 'A', 'B', 'D', 'B', 'C', 'E', 'C', 'E', 'C', 'A', 'A', 'B', 'D', 'B', 'C', 'E', 'C', 'E', 'C', 'A', 'A', 'B', 'D', 'B', 'C', 'E', 'C', 'E', 'C', 'A', 'A', 'B', 'D', 'B', 'C', 'E', 'C', 'E', 'C', 'A', 'A', 'B', 'D', 'B', 'C', 'E', 'C', 'E', 'C', 'A', 'A', 'B', 'D', 'B', 'C', 'E', 'C', 'E', 'C', 'A', 'A', 'B', 'D', 'B', 'C', 'E', 'C']\n",
            "['B', 'C', 'E', 'C', 'E', 'C', 'A', 'A', 'B', 'D', 'B', 'C', 'E', 'C', 'E', 'C', 'A', 'A', 'B', 'D', 'B', 'C', 'E', 'C', 'E', 'C', 'A', 'A', 'B', 'D', 'B', 'C', 'E', 'C', 'E', 'C', 'A', 'A', 'B', 'D', 'B', 'C', 'E', 'C', 'E', 'C', 'A', 'A', 'B', 'D', 'B', 'C', 'E', 'C', 'E', 'C', 'A', 'A', 'B', 'D', 'B', 'C', 'E', 'C', 'E', 'C', 'A', 'A', 'B', 'D', 'B', 'C', 'E', 'C', 'E']\n",
            "['B', 'C', 'E', 'C', 'E', 'C', 'A', 'A', 'B', 'D', 'B', 'C', 'E', 'C', 'E', 'C', 'A', 'A', 'B', 'D', 'B', 'C', 'E', 'C', 'E', 'C', 'A', 'A', 'B', 'D', 'B', 'C', 'E', 'C', 'E', 'C', 'A', 'A', 'B', 'D', 'B', 'C', 'E', 'C', 'E', 'C', 'A', 'A', 'B', 'D', 'B', 'C', 'E', 'C', 'E', 'C', 'A', 'A', 'B', 'D', 'B', 'C', 'E', 'C', 'E', 'C', 'A', 'A', 'B', 'D', 'B', 'C', 'E', 'C', 'E', 'C']\n",
            "['B', 'C', 'E', 'C', 'E', 'C', 'A', 'A', 'B', 'D', 'B', 'C', 'E', 'C', 'E', 'C', 'A', 'A', 'B', 'D', 'B', 'C', 'E', 'C', 'E', 'C', 'A', 'A', 'B', 'D', 'B', 'C', 'E', 'C', 'E', 'C', 'A', 'A', 'B', 'D', 'B', 'C', 'E', 'C', 'E', 'C', 'A', 'A', 'B', 'D', 'B', 'C', 'E', 'C', 'E', 'C', 'A', 'A', 'B', 'D', 'B', 'C', 'E', 'C', 'E', 'C', 'A', 'A', 'B', 'D', 'B', 'C', 'E', 'C', 'E', 'C', 'A']\n",
            "['B', 'C', 'E', 'C', 'E', 'C', 'A', 'A', 'B', 'D', 'B', 'C', 'E', 'C', 'E', 'C', 'A', 'A', 'B', 'D', 'B', 'C', 'E', 'C', 'E', 'C', 'A', 'A', 'B', 'D', 'B', 'C', 'E', 'C', 'E', 'C', 'A', 'A', 'B', 'D', 'B', 'C', 'E', 'C', 'E', 'C', 'A', 'A', 'B', 'D', 'B', 'C', 'E', 'C', 'E', 'C', 'A', 'A', 'B', 'D', 'B', 'C', 'E', 'C', 'E', 'C', 'A', 'A', 'B', 'D', 'B', 'C', 'E', 'C', 'E', 'C', 'A', 'A']\n",
            "['B', 'C', 'E', 'C', 'E', 'C', 'A', 'A', 'B', 'D', 'B', 'C', 'E', 'C', 'E', 'C', 'A', 'A', 'B', 'D', 'B', 'C', 'E', 'C', 'E', 'C', 'A', 'A', 'B', 'D', 'B', 'C', 'E', 'C', 'E', 'C', 'A', 'A', 'B', 'D', 'B', 'C', 'E', 'C', 'E', 'C', 'A', 'A', 'B', 'D', 'B', 'C', 'E', 'C', 'E', 'C', 'A', 'A', 'B', 'D', 'B', 'C', 'E', 'C', 'E', 'C', 'A', 'A', 'B', 'D', 'B', 'C', 'E', 'C', 'E', 'C', 'A', 'A', 'B']\n",
            "['B', 'C', 'E', 'C', 'E', 'C', 'A', 'A', 'B', 'D', 'B', 'C', 'E', 'C', 'E', 'C', 'A', 'A', 'B', 'D', 'B', 'C', 'E', 'C', 'E', 'C', 'A', 'A', 'B', 'D', 'B', 'C', 'E', 'C', 'E', 'C', 'A', 'A', 'B', 'D', 'B', 'C', 'E', 'C', 'E', 'C', 'A', 'A', 'B', 'D', 'B', 'C', 'E', 'C', 'E', 'C', 'A', 'A', 'B', 'D', 'B', 'C', 'E', 'C', 'E', 'C', 'A', 'A', 'B', 'D', 'B', 'C', 'E', 'C', 'E', 'C', 'A', 'A', 'B', 'D']\n",
            "['B', 'C', 'E', 'C', 'E', 'C', 'A', 'A', 'B', 'D', 'B', 'C', 'E', 'C', 'E', 'C', 'A', 'A', 'B', 'D', 'B', 'C', 'E', 'C', 'E', 'C', 'A', 'A', 'B', 'D', 'B', 'C', 'E', 'C', 'E', 'C', 'A', 'A', 'B', 'D', 'B', 'C', 'E', 'C', 'E', 'C', 'A', 'A', 'B', 'D', 'B', 'C', 'E', 'C', 'E', 'C', 'A', 'A', 'B', 'D', 'B', 'C', 'E', 'C', 'E', 'C', 'A', 'A', 'B', 'D', 'B', 'C', 'E', 'C', 'E', 'C', 'A', 'A', 'B', 'D', 'B']\n",
            "['B', 'C', 'E', 'C', 'E', 'C', 'A', 'A', 'B', 'D', 'B', 'C', 'E', 'C', 'E', 'C', 'A', 'A', 'B', 'D', 'B', 'C', 'E', 'C', 'E', 'C', 'A', 'A', 'B', 'D', 'B', 'C', 'E', 'C', 'E', 'C', 'A', 'A', 'B', 'D', 'B', 'C', 'E', 'C', 'E', 'C', 'A', 'A', 'B', 'D', 'B', 'C', 'E', 'C', 'E', 'C', 'A', 'A', 'B', 'D', 'B', 'C', 'E', 'C', 'E', 'C', 'A', 'A', 'B', 'D', 'B', 'C', 'E', 'C', 'E', 'C', 'A', 'A', 'B', 'D', 'B', 'C']\n",
            "['B', 'C', 'E', 'C', 'E', 'C', 'A', 'A', 'B', 'D', 'B', 'C', 'E', 'C', 'E', 'C', 'A', 'A', 'B', 'D', 'B', 'C', 'E', 'C', 'E', 'C', 'A', 'A', 'B', 'D', 'B', 'C', 'E', 'C', 'E', 'C', 'A', 'A', 'B', 'D', 'B', 'C', 'E', 'C', 'E', 'C', 'A', 'A', 'B', 'D', 'B', 'C', 'E', 'C', 'E', 'C', 'A', 'A', 'B', 'D', 'B', 'C', 'E', 'C', 'E', 'C', 'A', 'A', 'B', 'D', 'B', 'C', 'E', 'C', 'E', 'C', 'A', 'A', 'B', 'D', 'B', 'C', 'E']\n",
            "['B', 'C', 'E', 'C', 'E', 'C', 'A', 'A', 'B', 'D', 'B', 'C', 'E', 'C', 'E', 'C', 'A', 'A', 'B', 'D', 'B', 'C', 'E', 'C', 'E', 'C', 'A', 'A', 'B', 'D', 'B', 'C', 'E', 'C', 'E', 'C', 'A', 'A', 'B', 'D', 'B', 'C', 'E', 'C', 'E', 'C', 'A', 'A', 'B', 'D', 'B', 'C', 'E', 'C', 'E', 'C', 'A', 'A', 'B', 'D', 'B', 'C', 'E', 'C', 'E', 'C', 'A', 'A', 'B', 'D', 'B', 'C', 'E', 'C', 'E', 'C', 'A', 'A', 'B', 'D', 'B', 'C', 'E', 'C']\n",
            "['B', 'C', 'E', 'C', 'E', 'C', 'A', 'A', 'B', 'D', 'B', 'C', 'E', 'C', 'E', 'C', 'A', 'A', 'B', 'D', 'B', 'C', 'E', 'C', 'E', 'C', 'A', 'A', 'B', 'D', 'B', 'C', 'E', 'C', 'E', 'C', 'A', 'A', 'B', 'D', 'B', 'C', 'E', 'C', 'E', 'C', 'A', 'A', 'B', 'D', 'B', 'C', 'E', 'C', 'E', 'C', 'A', 'A', 'B', 'D', 'B', 'C', 'E', 'C', 'E', 'C', 'A', 'A', 'B', 'D', 'B', 'C', 'E', 'C', 'E', 'C', 'A', 'A', 'B', 'D', 'B', 'C', 'E', 'C', 'E']\n",
            "['B', 'C', 'E', 'C', 'E', 'C', 'A', 'A', 'B', 'D', 'B', 'C', 'E', 'C', 'E', 'C', 'A', 'A', 'B', 'D', 'B', 'C', 'E', 'C', 'E', 'C', 'A', 'A', 'B', 'D', 'B', 'C', 'E', 'C', 'E', 'C', 'A', 'A', 'B', 'D', 'B', 'C', 'E', 'C', 'E', 'C', 'A', 'A', 'B', 'D', 'B', 'C', 'E', 'C', 'E', 'C', 'A', 'A', 'B', 'D', 'B', 'C', 'E', 'C', 'E', 'C', 'A', 'A', 'B', 'D', 'B', 'C', 'E', 'C', 'E', 'C', 'A', 'A', 'B', 'D', 'B', 'C', 'E', 'C', 'E', 'C']\n",
            "['B', 'C', 'E', 'C', 'E', 'C', 'A', 'A', 'B', 'D', 'B', 'C', 'E', 'C', 'E', 'C', 'A', 'A', 'B', 'D', 'B', 'C', 'E', 'C', 'E', 'C', 'A', 'A', 'B', 'D', 'B', 'C', 'E', 'C', 'E', 'C', 'A', 'A', 'B', 'D', 'B', 'C', 'E', 'C', 'E', 'C', 'A', 'A', 'B', 'D', 'B', 'C', 'E', 'C', 'E', 'C', 'A', 'A', 'B', 'D', 'B', 'C', 'E', 'C', 'E', 'C', 'A', 'A', 'B', 'D', 'B', 'C', 'E', 'C', 'E', 'C', 'A', 'A', 'B', 'D', 'B', 'C', 'E', 'C', 'E', 'C', 'A']\n",
            "['B', 'C', 'E', 'C', 'E', 'C', 'A', 'A', 'B', 'D', 'B', 'C', 'E', 'C', 'E', 'C', 'A', 'A', 'B', 'D', 'B', 'C', 'E', 'C', 'E', 'C', 'A', 'A', 'B', 'D', 'B', 'C', 'E', 'C', 'E', 'C', 'A', 'A', 'B', 'D', 'B', 'C', 'E', 'C', 'E', 'C', 'A', 'A', 'B', 'D', 'B', 'C', 'E', 'C', 'E', 'C', 'A', 'A', 'B', 'D', 'B', 'C', 'E', 'C', 'E', 'C', 'A', 'A', 'B', 'D', 'B', 'C', 'E', 'C', 'E', 'C', 'A', 'A', 'B', 'D', 'B', 'C', 'E', 'C', 'E', 'C', 'A', 'A']\n",
            "['B', 'C', 'E', 'C', 'E', 'C', 'A', 'A', 'B', 'D', 'B', 'C', 'E', 'C', 'E', 'C', 'A', 'A', 'B', 'D', 'B', 'C', 'E', 'C', 'E', 'C', 'A', 'A', 'B', 'D', 'B', 'C', 'E', 'C', 'E', 'C', 'A', 'A', 'B', 'D', 'B', 'C', 'E', 'C', 'E', 'C', 'A', 'A', 'B', 'D', 'B', 'C', 'E', 'C', 'E', 'C', 'A', 'A', 'B', 'D', 'B', 'C', 'E', 'C', 'E', 'C', 'A', 'A', 'B', 'D', 'B', 'C', 'E', 'C', 'E', 'C', 'A', 'A', 'B', 'D', 'B', 'C', 'E', 'C', 'E', 'C', 'A', 'A', 'B']\n",
            "['B', 'C', 'E', 'C', 'E', 'C', 'A', 'A', 'B', 'D', 'B', 'C', 'E', 'C', 'E', 'C', 'A', 'A', 'B', 'D', 'B', 'C', 'E', 'C', 'E', 'C', 'A', 'A', 'B', 'D', 'B', 'C', 'E', 'C', 'E', 'C', 'A', 'A', 'B', 'D', 'B', 'C', 'E', 'C', 'E', 'C', 'A', 'A', 'B', 'D', 'B', 'C', 'E', 'C', 'E', 'C', 'A', 'A', 'B', 'D', 'B', 'C', 'E', 'C', 'E', 'C', 'A', 'A', 'B', 'D', 'B', 'C', 'E', 'C', 'E', 'C', 'A', 'A', 'B', 'D', 'B', 'C', 'E', 'C', 'E', 'C', 'A', 'A', 'B', 'D']\n",
            "['B', 'C', 'E', 'C', 'E', 'C', 'A', 'A', 'B', 'D', 'B', 'C', 'E', 'C', 'E', 'C', 'A', 'A', 'B', 'D', 'B', 'C', 'E', 'C', 'E', 'C', 'A', 'A', 'B', 'D', 'B', 'C', 'E', 'C', 'E', 'C', 'A', 'A', 'B', 'D', 'B', 'C', 'E', 'C', 'E', 'C', 'A', 'A', 'B', 'D', 'B', 'C', 'E', 'C', 'E', 'C', 'A', 'A', 'B', 'D', 'B', 'C', 'E', 'C', 'E', 'C', 'A', 'A', 'B', 'D', 'B', 'C', 'E', 'C', 'E', 'C', 'A', 'A', 'B', 'D', 'B', 'C', 'E', 'C', 'E', 'C', 'A', 'A', 'B', 'D', 'B']\n",
            "['B', 'C', 'E', 'C', 'E', 'C', 'A', 'A', 'B', 'D', 'B', 'C', 'E', 'C', 'E', 'C', 'A', 'A', 'B', 'D', 'B', 'C', 'E', 'C', 'E', 'C', 'A', 'A', 'B', 'D', 'B', 'C', 'E', 'C', 'E', 'C', 'A', 'A', 'B', 'D', 'B', 'C', 'E', 'C', 'E', 'C', 'A', 'A', 'B', 'D', 'B', 'C', 'E', 'C', 'E', 'C', 'A', 'A', 'B', 'D', 'B', 'C', 'E', 'C', 'E', 'C', 'A', 'A', 'B', 'D', 'B', 'C', 'E', 'C', 'E', 'C', 'A', 'A', 'B', 'D', 'B', 'C', 'E', 'C', 'E', 'C', 'A', 'A', 'B', 'D', 'B', 'C']\n",
            "['B', 'C', 'E', 'C', 'E', 'C', 'A', 'A', 'B', 'D', 'B', 'C', 'E', 'C', 'E', 'C', 'A', 'A', 'B', 'D', 'B', 'C', 'E', 'C', 'E', 'C', 'A', 'A', 'B', 'D', 'B', 'C', 'E', 'C', 'E', 'C', 'A', 'A', 'B', 'D', 'B', 'C', 'E', 'C', 'E', 'C', 'A', 'A', 'B', 'D', 'B', 'C', 'E', 'C', 'E', 'C', 'A', 'A', 'B', 'D', 'B', 'C', 'E', 'C', 'E', 'C', 'A', 'A', 'B', 'D', 'B', 'C', 'E', 'C', 'E', 'C', 'A', 'A', 'B', 'D', 'B', 'C', 'E', 'C', 'E', 'C', 'A', 'A', 'B', 'D', 'B', 'C', 'E']\n",
            "['B', 'C', 'E', 'C', 'E', 'C', 'A', 'A', 'B', 'D', 'B', 'C', 'E', 'C', 'E', 'C', 'A', 'A', 'B', 'D', 'B', 'C', 'E', 'C', 'E', 'C', 'A', 'A', 'B', 'D', 'B', 'C', 'E', 'C', 'E', 'C', 'A', 'A', 'B', 'D', 'B', 'C', 'E', 'C', 'E', 'C', 'A', 'A', 'B', 'D', 'B', 'C', 'E', 'C', 'E', 'C', 'A', 'A', 'B', 'D', 'B', 'C', 'E', 'C', 'E', 'C', 'A', 'A', 'B', 'D', 'B', 'C', 'E', 'C', 'E', 'C', 'A', 'A', 'B', 'D', 'B', 'C', 'E', 'C', 'E', 'C', 'A', 'A', 'B', 'D', 'B', 'C', 'E', 'C']\n",
            "['B', 'C', 'E', 'C', 'E', 'C', 'A', 'A', 'B', 'D', 'B', 'C', 'E', 'C', 'E', 'C', 'A', 'A', 'B', 'D', 'B', 'C', 'E', 'C', 'E', 'C', 'A', 'A', 'B', 'D', 'B', 'C', 'E', 'C', 'E', 'C', 'A', 'A', 'B', 'D', 'B', 'C', 'E', 'C', 'E', 'C', 'A', 'A', 'B', 'D', 'B', 'C', 'E', 'C', 'E', 'C', 'A', 'A', 'B', 'D', 'B', 'C', 'E', 'C', 'E', 'C', 'A', 'A', 'B', 'D', 'B', 'C', 'E', 'C', 'E', 'C', 'A', 'A', 'B', 'D', 'B', 'C', 'E', 'C', 'E', 'C', 'A', 'A', 'B', 'D', 'B', 'C', 'E', 'C', 'E']\n",
            "['B', 'C', 'E', 'C', 'E', 'C', 'A', 'A', 'B', 'D', 'B', 'C', 'E', 'C', 'E', 'C', 'A', 'A', 'B', 'D', 'B', 'C', 'E', 'C', 'E', 'C', 'A', 'A', 'B', 'D', 'B', 'C', 'E', 'C', 'E', 'C', 'A', 'A', 'B', 'D', 'B', 'C', 'E', 'C', 'E', 'C', 'A', 'A', 'B', 'D', 'B', 'C', 'E', 'C', 'E', 'C', 'A', 'A', 'B', 'D', 'B', 'C', 'E', 'C', 'E', 'C', 'A', 'A', 'B', 'D', 'B', 'C', 'E', 'C', 'E', 'C', 'A', 'A', 'B', 'D', 'B', 'C', 'E', 'C', 'E', 'C', 'A', 'A', 'B', 'D', 'B', 'C', 'E', 'C', 'E', 'C']\n",
            "['B', 'C', 'E', 'C', 'E', 'C', 'A', 'A', 'B', 'D', 'B', 'C', 'E', 'C', 'E', 'C', 'A', 'A', 'B', 'D', 'B', 'C', 'E', 'C', 'E', 'C', 'A', 'A', 'B', 'D', 'B', 'C', 'E', 'C', 'E', 'C', 'A', 'A', 'B', 'D', 'B', 'C', 'E', 'C', 'E', 'C', 'A', 'A', 'B', 'D', 'B', 'C', 'E', 'C', 'E', 'C', 'A', 'A', 'B', 'D', 'B', 'C', 'E', 'C', 'E', 'C', 'A', 'A', 'B', 'D', 'B', 'C', 'E', 'C', 'E', 'C', 'A', 'A', 'B', 'D', 'B', 'C', 'E', 'C', 'E', 'C', 'A', 'A', 'B', 'D', 'B', 'C', 'E', 'C', 'E', 'C', 'A']\n",
            "['B', 'C', 'E', 'C', 'E', 'C', 'A', 'A', 'B', 'D', 'B', 'C', 'E', 'C', 'E', 'C', 'A', 'A', 'B', 'D', 'B', 'C', 'E', 'C', 'E', 'C', 'A', 'A', 'B', 'D', 'B', 'C', 'E', 'C', 'E', 'C', 'A', 'A', 'B', 'D', 'B', 'C', 'E', 'C', 'E', 'C', 'A', 'A', 'B', 'D', 'B', 'C', 'E', 'C', 'E', 'C', 'A', 'A', 'B', 'D', 'B', 'C', 'E', 'C', 'E', 'C', 'A', 'A', 'B', 'D', 'B', 'C', 'E', 'C', 'E', 'C', 'A', 'A', 'B', 'D', 'B', 'C', 'E', 'C', 'E', 'C', 'A', 'A', 'B', 'D', 'B', 'C', 'E', 'C', 'E', 'C', 'A', 'A']\n",
            "['B', 'C', 'E', 'C', 'E', 'C', 'A', 'A', 'B', 'D', 'B', 'C', 'E', 'C', 'E', 'C', 'A', 'A', 'B', 'D', 'B', 'C', 'E', 'C', 'E', 'C', 'A', 'A', 'B', 'D', 'B', 'C', 'E', 'C', 'E', 'C', 'A', 'A', 'B', 'D', 'B', 'C', 'E', 'C', 'E', 'C', 'A', 'A', 'B', 'D', 'B', 'C', 'E', 'C', 'E', 'C', 'A', 'A', 'B', 'D', 'B', 'C', 'E', 'C', 'E', 'C', 'A', 'A', 'B', 'D', 'B', 'C', 'E', 'C', 'E', 'C', 'A', 'A', 'B', 'D', 'B', 'C', 'E', 'C', 'E', 'C', 'A', 'A', 'B', 'D', 'B', 'C', 'E', 'C', 'E', 'C', 'A', 'A', 'B']\n",
            "['B', 'C', 'E', 'C', 'E', 'C', 'A', 'A', 'B', 'D', 'B', 'C', 'E', 'C', 'E', 'C', 'A', 'A', 'B', 'D', 'B', 'C', 'E', 'C', 'E', 'C', 'A', 'A', 'B', 'D', 'B', 'C', 'E', 'C', 'E', 'C', 'A', 'A', 'B', 'D', 'B', 'C', 'E', 'C', 'E', 'C', 'A', 'A', 'B', 'D', 'B', 'C', 'E', 'C', 'E', 'C', 'A', 'A', 'B', 'D', 'B', 'C', 'E', 'C', 'E', 'C', 'A', 'A', 'B', 'D', 'B', 'C', 'E', 'C', 'E', 'C', 'A', 'A', 'B', 'D', 'B', 'C', 'E', 'C', 'E', 'C', 'A', 'A', 'B', 'D', 'B', 'C', 'E', 'C', 'E', 'C', 'A', 'A', 'B', 'D']\n",
            "What will be the final state for the input sequence ''11010' * 20'? D\n"
          ]
        }
      ]
    },
    {
      "cell_type": "code",
      "source": [],
      "metadata": {
        "id": "TLqSb1flAE49"
      },
      "execution_count": null,
      "outputs": []
    },
    {
      "cell_type": "code",
      "source": [],
      "metadata": {
        "id": "az7KY805AgHX"
      },
      "execution_count": null,
      "outputs": []
    }
  ]
}