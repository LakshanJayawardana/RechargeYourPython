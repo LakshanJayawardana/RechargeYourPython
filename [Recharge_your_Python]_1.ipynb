{
  "nbformat": 4,
  "nbformat_minor": 0,
  "metadata": {
    "colab": {
      "provenance": [],
      "authorship_tag": "ABX9TyPM4coGENtNsdv13jwhNoQ4",
      "include_colab_link": true
    },
    "kernelspec": {
      "name": "python3",
      "display_name": "Python 3"
    },
    "language_info": {
      "name": "python"
    }
  },
  "cells": [
    {
      "cell_type": "markdown",
      "metadata": {
        "id": "view-in-github",
        "colab_type": "text"
      },
      "source": [
        "<a href=\"https://colab.research.google.com/github/LakshanJayawardana/RechargeYourPython/blob/Recharge-your-python%5D-%231/%5BRecharge_your_Python%5D_1.ipynb\" target=\"_parent\"><img src=\"https://colab.research.google.com/assets/colab-badge.svg\" alt=\"Open In Colab\"/></a>"
      ]
    },
    {
      "cell_type": "markdown",
      "source": [
        "# Task 1"
      ],
      "metadata": {
        "id": "Uc7A5HHrxct8"
      }
    },
    {
      "cell_type": "markdown",
      "source": [
        "1. Compute the sum 1*1 + 2*2 + 3*3 + … + 2023*2023 = ?\n",
        "2. In mathematics, a square number is an integer that is the square of \n",
        "an integer, e.g. 1, 4, 9, 16, 25, 36 etc. \n",
        "\n",
        "How many square numbers are below 2023?\n",
        "3. Fibonacci sequence follows the rule that each number is equal to the sum of the preceding two numbers: 0, 1, 1, 2, 3, 5, 8, 13, … "
      ],
      "metadata": {
        "id": "cqPEHqMs55FS"
      }
    },
    {
      "cell_type": "code",
      "source": [
        "import sys\n",
        "sys.set_int_max_str_digits(0)\n",
        "sum = 0 \n",
        "n = 2021\n",
        "val1 = int(n) +1\n",
        "for i in range(1,val1):\n",
        "  val = i * (i+1)\n",
        "  sum = sum + val\n",
        "print(sum)\n"
      ],
      "metadata": {
        "colab": {
          "base_uri": "https://localhost:8080/"
        },
        "id": "ZRlOQOmXxet-",
        "outputId": "03579ac7-a19c-4453-ecd9-f99d1ef7aed4"
      },
      "execution_count": null,
      "outputs": [
        {
          "output_type": "stream",
          "name": "stdout",
          "text": [
            "2755637542\n"
          ]
        }
      ]
    },
    {
      "cell_type": "code",
      "source": [],
      "metadata": {
        "id": "N-nZP024xzG7"
      },
      "execution_count": null,
      "outputs": []
    },
    {
      "cell_type": "markdown",
      "source": [],
      "metadata": {
        "id": "C1LKs2qMeJGC"
      }
    },
    {
      "cell_type": "markdown",
      "source": [
        "# Task 2"
      ],
      "metadata": {
        "id": "67n-LCZc8QSC"
      }
    },
    {
      "cell_type": "code",
      "source": [
        "def sumOfSquares():\n",
        "  count =0\n",
        "  for i in range(0,2024):\n",
        "    sum = i * i\n",
        "    if sum <= 2024:\n",
        "      count += 1\n",
        "  print(\"Square numbers belove 2023 :\",count-1)\n",
        "sumOfSquares()\n"
      ],
      "metadata": {
        "id": "Q8GcB7mI8UwI",
        "colab": {
          "base_uri": "https://localhost:8080/"
        },
        "outputId": "b93ab903-33d1-4371-c101-a74feb8d3893"
      },
      "execution_count": null,
      "outputs": [
        {
          "output_type": "stream",
          "name": "stdout",
          "text": [
            "Square numbers belove 2023 : 44\n"
          ]
        }
      ]
    },
    {
      "cell_type": "markdown",
      "source": [
        "# Task 3"
      ],
      "metadata": {
        "id": "zzaMF5A9Wghu"
      }
    },
    {
      "cell_type": "code",
      "source": [
        "import sys\n",
        "sys.setrecursionlimit(3000)\n",
        "def fibonacci(number):\n",
        "  if number == 1:\n",
        "    return 0\n",
        "  elif number == 2:\n",
        "    return 1\n",
        "  else:\n",
        "    return fibonacci(number-2)+fibonacci(number-1)\n",
        "x = int(input(\"Enter required value \"))\n",
        "#for x in range(10):\n",
        "print(fibonacci(x))\n"
      ],
      "metadata": {
        "colab": {
          "base_uri": "https://localhost:8080/"
        },
        "id": "gmNwp1uiWieY",
        "outputId": "a1aab127-ef49-4ebf-cee6-6c95c771c028"
      },
      "execution_count": null,
      "outputs": [
        {
          "output_type": "stream",
          "name": "stdout",
          "text": [
            "Enter required value 23\n",
            "17711\n"
          ]
        }
      ]
    },
    {
      "cell_type": "code",
      "source": [
        "\n",
        "  "
      ],
      "metadata": {
        "id": "2QElqWksYSc9"
      },
      "execution_count": null,
      "outputs": []
    }
  ]
}