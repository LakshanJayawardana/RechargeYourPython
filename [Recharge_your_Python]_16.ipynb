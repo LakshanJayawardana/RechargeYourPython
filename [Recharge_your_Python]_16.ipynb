{
  "nbformat": 4,
  "nbformat_minor": 0,
  "metadata": {
    "colab": {
      "provenance": [],
      "authorship_tag": "ABX9TyP95T9CEqU/lEU2gr1D8Vzz",
      "include_colab_link": true
    },
    "kernelspec": {
      "name": "python3",
      "display_name": "Python 3"
    },
    "language_info": {
      "name": "python"
    }
  },
  "cells": [
    {
      "cell_type": "markdown",
      "metadata": {
        "id": "view-in-github",
        "colab_type": "text"
      },
      "source": [
        "<a href=\"https://colab.research.google.com/github/LakshanJayawardana/RechargeYourPython/blob/Recharge-your-Python%5D-%2316/%5BRecharge_your_Python%5D_16.ipynb\" target=\"_parent\"><img src=\"https://colab.research.google.com/assets/colab-badge.svg\" alt=\"Open In Colab\"/></a>"
      ]
    },
    {
      "cell_type": "markdown",
      "source": [
        "Python Task #16\n",
        "\n",
        "The system potentially could be in four possible states: A, B, C, and D, where A is the initial state. Probabilities of the transitions between the states are shown on the graph below. \n",
        "Implement 200 000 random 100-step scenarios of the model and answer the following questions:\n",
        "\n",
        "1. What is the probability for the system to be in state C? Round the answer to an integer percent.\n",
        "\n",
        "2. What is the probability that after 100 random steps the last state is B? Round the answer to an integer percent.\n",
        "\n",
        "3. What is the average number of steps between two subsequent states D? Round the answer to an integer.\n",
        "MC.PNG"
      ],
      "metadata": {
        "id": "GvHr6lg4LZ0v"
      }
    },
    {
      "cell_type": "code",
      "source": [],
      "metadata": {
        "id": "qfOG7__lLcbw"
      },
      "execution_count": null,
      "outputs": []
    }
  ]
}