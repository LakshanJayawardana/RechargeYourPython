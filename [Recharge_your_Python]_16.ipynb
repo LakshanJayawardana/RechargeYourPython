{
  "nbformat": 4,
  "nbformat_minor": 0,
  "metadata": {
    "colab": {
      "provenance": [],
      "authorship_tag": "ABX9TyPLfMRnFD9wPfoDym8oKFmH",
      "include_colab_link": true
    },
    "kernelspec": {
      "name": "python3",
      "display_name": "Python 3"
    },
    "language_info": {
      "name": "python"
    }
  },
  "cells": [
    {
      "cell_type": "markdown",
      "metadata": {
        "id": "view-in-github",
        "colab_type": "text"
      },
      "source": [
        "<a href=\"https://colab.research.google.com/github/LakshanJayawardana/RechargeYourPython/blob/Recharge-your-Python%5D-%2316/%5BRecharge_your_Python%5D_16.ipynb\" target=\"_parent\"><img src=\"https://colab.research.google.com/assets/colab-badge.svg\" alt=\"Open In Colab\"/></a>"
      ]
    },
    {
      "cell_type": "markdown",
      "source": [
        "Python Task #16\n",
        "\n",
        "The system potentially could be in four possible states: A, B, C, and D, where A is the initial state. Probabilities of the transitions between the states are shown on the graph below. Implement 200 000 random 100-step scenarios of the model and answer the following questions:\n",
        "\n",
        "What is the probability for the system to be in state C? Round the answer to an integer percent.\n",
        "\n",
        "What is the probability that after 100 random steps the last state is B? Round the answer to an integer percent.\n",
        "\n",
        "What is the average number of steps between two subsequent states D? Round the answer to an integer. MC.PNG"
      ],
      "metadata": {
        "id": "WvP7ZEnNIybZ"
      }
    },
    {
      "cell_type": "code",
      "source": [
        "import random\n",
        "\n",
        "\n",
        "row1 = [\"AB\"] * 7 + [\"AC\"] * 3\n",
        "random.shuffle(row1)\n",
        "row2 = [\"BC\"] * 4 + [\"BD\"] * 6\n",
        "random.shuffle(row2)\n",
        "\n",
        "\n",
        "transitionNames = [[\"AB\",\"AC\"],[\"BC\",\"BD\"],[\"CA\"],[\"DC\"]]\n",
        "transitionMatrix = [[0.7,0.3],[0.4,0.6],[1],[1]]\n",
        "\n",
        "\n",
        "def marcovRuns(rounds, steps):\n",
        "    possibleRounds = []\n",
        "    for i in range(rounds):\n",
        "        initialState = \"A\"\n",
        "        activityList = [initialState]\n",
        "        prob = 1\n",
        "        for j in range(steps):\n",
        "            if initialState == \"A\":\n",
        "                change = random.choice(row1)\n",
        "                if change == \"AB\":\n",
        "                    prob *= 0.7\n",
        "                    initialState = \"B\"\n",
        "                elif change == \"AC\":\n",
        "                    prob *= 0.3\n",
        "                    initialState = \"C\"\n",
        "            elif initialState == \"B\":\n",
        "                change = random.choice(row2)\n",
        "                if change == \"BC\":\n",
        "                    prob *= 0.4\n",
        "                    initialState = \"C\"\n",
        "                elif change == \"BD\":\n",
        "                    prob *= 0.6\n",
        "                    initialState = \"D\"\n",
        "            elif initialState == \"C\":\n",
        "                change = transitionNames[2][0]\n",
        "                prob *= 1\n",
        "                initialState = \"A\"\n",
        "            elif initialState == \"D\":\n",
        "                change = transitionNames[3][0]\n",
        "                prob *= 1\n",
        "                initialState = \"C\"\n",
        "            activityList.append(initialState)\n",
        "        possibleRounds.append(activityList)\n",
        "    return possibleRounds\n",
        "\n"
      ],
      "metadata": {
        "id": "CtaA_HpoHGdM"
      },
      "execution_count": 21,
      "outputs": []
    },
    {
      "cell_type": "markdown",
      "source": [
        "# Task 1"
      ],
      "metadata": {
        "id": "yc2YaGzCL3LA"
      }
    },
    {
      "cell_type": "code",
      "source": [
        "\n",
        "\n",
        "possibleRounds = marcovRuns(200000, 100)\n",
        "countC = sum([round.count('C') for round in possibleRounds])\n",
        "print(f\"probability for the system to be in state C: {countC / (200000 * 100) * 100:.2f}%\")\n",
        "\n",
        "\n"
      ],
      "metadata": {
        "id": "qkIalBH_LPx8",
        "colab": {
          "base_uri": "https://localhost:8080/"
        },
        "outputId": "1161cc39-c00f-4518-f690-1b6a25135958"
      },
      "execution_count": 23,
      "outputs": [
        {
          "output_type": "stream",
          "name": "stdout",
          "text": [
            "probability for the system to be in state C: 32.07%\n"
          ]
        }
      ]
    },
    {
      "cell_type": "markdown",
      "source": [
        "# Task 2"
      ],
      "metadata": {
        "id": "oKCQAeCpL5g3"
      }
    },
    {
      "cell_type": "code",
      "source": [
        "BCount = sum([1 for row in possibleRounds if row[-1] == \"B\"])\n",
        "print(f\"Probability for the system to be in state B: {BCount / 200000 * 100:.2f}%\")"
      ],
      "metadata": {
        "colab": {
          "base_uri": "https://localhost:8080/"
        },
        "id": "4EZRaSFPL6d-",
        "outputId": "c9941182-394d-43f2-bc76-399b7526cb73"
      },
      "execution_count": 20,
      "outputs": [
        {
          "output_type": "stream",
          "name": "stdout",
          "text": [
            "Probability for the system to be in state B: 22.46%\n"
          ]
        }
      ]
    },
    {
      "cell_type": "markdown",
      "source": [
        "# Task 3"
      ],
      "metadata": {
        "id": "qSW3zYKLL7En"
      }
    },
    {
      "cell_type": "code",
      "source": [
        "\n",
        "stepsBetweenD = [dIndices[i] - dIndices[i-1] for round in possibleRounds for dIndices in [ [i for i, state in enumerate(round) if state == 'D']] for i in range(1, len(dIndices))]\n",
        "avgStepsBetweenD = sum(stepsBetweenD) / len(stepsBetweenD)\n",
        "print(f\"Average number of steps between two subsequent states D: {round(avgStepsBetweenD)}\")"
      ],
      "metadata": {
        "colab": {
          "base_uri": "https://localhost:8080/"
        },
        "id": "3YxjG9YzL74n",
        "outputId": "f5a141f8-d021-4c7f-bd9b-67e291a73e28"
      },
      "execution_count": 18,
      "outputs": [
        {
          "output_type": "stream",
          "name": "stdout",
          "text": [
            "Average number of steps between two subsequent states D: 7\n"
          ]
        }
      ]
    },
    {
      "cell_type": "code",
      "source": [],
      "metadata": {
        "id": "dccdbtDZL_vh"
      },
      "execution_count": null,
      "outputs": []
    }
  ]
}