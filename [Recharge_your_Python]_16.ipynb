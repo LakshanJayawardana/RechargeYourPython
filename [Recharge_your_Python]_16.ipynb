{
  "nbformat": 4,
  "nbformat_minor": 0,
  "metadata": {
    "colab": {
      "provenance": [],
      "authorship_tag": "ABX9TyNjwcFsPxRd96+n2FyCXI59",
      "include_colab_link": true
    },
    "kernelspec": {
      "name": "python3",
      "display_name": "Python 3"
    },
    "language_info": {
      "name": "python"
    }
  },
  "cells": [
    {
      "cell_type": "markdown",
      "metadata": {
        "id": "view-in-github",
        "colab_type": "text"
      },
      "source": [
        "<a href=\"https://colab.research.google.com/github/LakshanJayawardana/RechargeYourPython/blob/Recharge-your-Python%5D-%2316/%5BRecharge_your_Python%5D_16.ipynb\" target=\"_parent\"><img src=\"https://colab.research.google.com/assets/colab-badge.svg\" alt=\"Open In Colab\"/></a>"
      ]
    },
    {
      "cell_type": "markdown",
      "source": [
        "Python Task #16\n",
        "\n",
        "The system potentially could be in four possible states: A, B, C, and D, where A is the initial state. Probabilities of the transitions between the states are shown on the graph below. \n",
        "Implement 200 000 random 100-step scenarios of the model and answer the following questions:\n",
        "\n",
        "1. What is the probability for the system to be in state C? Round the answer to an integer percent.\n",
        "\n",
        "2. What is the probability that after 100 random steps the last state is B? Round the answer to an integer percent.\n",
        "\n",
        "3. What is the average number of steps between two subsequent states D? Round the answer to an integer.\n",
        "MC.PNG"
      ],
      "metadata": {
        "id": "GvHr6lg4LZ0v"
      }
    },
    {
      "cell_type": "code",
      "source": [
        "import random\n",
        "\n",
        "\n",
        "transition_probs = {\n",
        "    'A': {'B': 0.4, 'C': 0.3, 'D': 0.3},\n",
        "    'B': {'B': 0.2, 'C': 0.5, 'D': 0.3},\n",
        "    'C': {'B': 0.1, 'C': 0.2, 'D': 0.7},\n",
        "    'D': {'B': 0.3, 'C': 0.3, 'D': 0.4}\n",
        "}\n",
        "\n",
        "\n",
        "state = 'A'\n",
        "\n",
        "\n",
        "c_count = 0\n",
        "b_final_count = 0\n",
        "\n",
        "\n",
        "d_steps_list = []\n",
        "\n",
        "\n",
        "for i in range(200000):\n",
        "   \n",
        "    steps = 0\n",
        "    \n",
        "    \n",
        "    for j in range(100):\n",
        "        \n",
        "        probs = transition_probs[state]\n",
        "        \n",
        "        \n",
        "        state = random.choices(list(probs.keys()), weights=list(probs.values()))[0]\n",
        "        \n",
        "        \n",
        "        steps += 1\n",
        "        \n",
        "        \n",
        "        if state == 'C':\n",
        "            c_count += 1\n",
        "        \n",
        "        \n",
        "        if j == 99 and state == 'B':\n",
        "            b_final_count += 1\n",
        "        \n",
        "        \n",
        "        if j > 0 and prev_state == 'D' and state != 'D':\n",
        "            d_steps_list.append(steps)\n",
        "            steps = 0\n",
        "        \n",
        "        \n",
        "        prev_state = state\n",
        "\n",
        "\n",
        "c_prob = round((c_count / 200000) * 100)\n",
        "b_final_prob = round((b_final_count / 200000) * 100)\n",
        "d_steps_avg = round(sum(d_steps_list) / len(d_steps_list))\n",
        "\n",
        "\n",
        "print(f\"Probability : {c_prob}%\")\n",
        "print(f\"Probability that after 100 random steps the last state is B: {b_final_prob}%\")\n",
        "print(f\"Average number of steps between two subsequent states D: {d_steps_avg}\")\n"
      ],
      "metadata": {
        "id": "qfOG7__lLcbw",
        "colab": {
          "base_uri": "https://localhost:8080/"
        },
        "outputId": "b3cc4af6-8a4a-4979-c648-156edd9fd482"
      },
      "execution_count": 1,
      "outputs": [
        {
          "output_type": "stream",
          "name": "stdout",
          "text": [
            "Probability for the system to be in state C: 3120%\n",
            "Probability that after 100 random steps the last state is B: 22%\n",
            "Average number of steps between two subsequent states D: 4\n"
          ]
        }
      ]
    },
    {
      "cell_type": "code",
      "source": [],
      "metadata": {
        "id": "Ym1vcNW1MPKw"
      },
      "execution_count": null,
      "outputs": []
    }
  ]
}