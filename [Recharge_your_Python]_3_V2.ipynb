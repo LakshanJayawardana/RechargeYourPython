{
  "nbformat": 4,
  "nbformat_minor": 0,
  "metadata": {
    "colab": {
      "provenance": []
    },
    "kernelspec": {
      "name": "python3",
      "display_name": "Python 3"
    },
    "language_info": {
      "name": "python"
    }
  },
  "cells": [
    {
      "cell_type": "code",
      "execution_count": 1,
      "metadata": {
        "id": "ih9wn9U9jD1t"
      },
      "outputs": [],
      "source": [
        "import math\n",
        "\n",
        "xy_coordinates = [(-27, -12), (84, 5), (-24, -40), (77, 27), (-40, 47), (74, -55), (-54, 25),\n",
        "(1, 54), (-2, 83), (39, 52), (85, 28), (-63, 89), (-36, 26), (79, -40), (16, 42), (73, -85),\n",
        "(-23, -31), (35, -44), (93, 11), (-55, -29), (80, 41), (-71, 7), (29, 43), (-66, -55), (-46, 77),\n",
        "(-34, -73), (-77, -16), (23, -50), (42, -62), (59, 44), (84, 96), (15, -56), (-61, 49), (34, -15),\n",
        "(-41, 32), (46, -26), (-10, 51), (-7, -35), (91, 58), (-70, 95), (-68, -3), (94, 70), (-67, 98), (-29, 84),\n",
        "(-68, -60), (7, -69), (77, -85), (69, -51), (-3, 43), (95, -39), (-13, -16), (32, -60), (-15, -26), (4, -45),\n",
        "(61, -6), (-76, -68), (-53, 10), (90, 38), (-17, -65), (-5, 10), (13, -42), (36, 36), (-25, 5), (72, 37),\n",
        "(53, 32), (68, 85), (-64, -47), (-18, -4), (45, -11), (-2, -25), (10, 42), (88, 70), (71, 49), (-37, -44),\n",
        "(-77, 42), (73, 91), (-70, -72), (51, 93), (99, 37), (44, -29), (-19, -44), (-40, 7), (-18, 76), (44, -41),\n",
        "(41, -43), (57, -33), (94, 73), (83, 45), (-56, -17), (2, 57), (16, 13), (8, -30), (92, 1), (54, -55),\n",
        "(12, -84), (-33, 93), (99, -54), (-22, 0), (26, 0), (-62, 73)]\n"
      ]
    },
    {
      "cell_type": "markdown",
      "source": [
        "1. Calculate the average value of the second coordinate (y-coordinate)"
      ],
      "metadata": {
        "id": "OEJ9NKJ8jK5q"
      }
    },
    {
      "cell_type": "code",
      "source": [
        "average_y = sum(point[1] for point in xy_coordinates) / len(xy_coordinates)\n",
        "print(\"Average Y-coordinate:\", average_y)"
      ],
      "metadata": {
        "colab": {
          "base_uri": "https://localhost:8080/"
        },
        "id": "mrW8iY9GjOJc",
        "outputId": "5a0eaa9d-b7d4-4283-a970-94376586b6a0"
      },
      "execution_count": 2,
      "outputs": [
        {
          "output_type": "stream",
          "name": "stdout",
          "text": [
            "Average Y-coordinate: 5.0\n"
          ]
        }
      ]
    },
    {
      "cell_type": "markdown",
      "source": [
        "2. Count points more than 100 units away from the origin"
      ],
      "metadata": {
        "id": "ME9YYhtVjPop"
      }
    },
    {
      "cell_type": "code",
      "source": [
        "count_points = sum(1 for point in xy_coordinates if math.sqrt(point[0] ** 2 + point[1] ** 2) > 100)\n",
        "print(\"Number of points more than 100 units away from the origin:\", count_points)"
      ],
      "metadata": {
        "colab": {
          "base_uri": "https://localhost:8080/"
        },
        "id": "gR0fgTUtjSyt",
        "outputId": "7565d35d-9a26-4e71-db27-567e3f5b3fe2"
      },
      "execution_count": 3,
      "outputs": [
        {
          "output_type": "stream",
          "name": "stdout",
          "text": [
            "Number of points more than 100 units away from the origin: 18\n"
          ]
        }
      ]
    },
    {
      "cell_type": "markdown",
      "source": [
        "3. Calculate the minimum distance between two points"
      ],
      "metadata": {
        "id": "ZqN5xHjDjW2y"
      }
    },
    {
      "cell_type": "code",
      "source": [
        "min_distance = min(math.dist(p1, p2) for p1 in xy_coordinates for p2 in xy_coordinates if p1 != p2)\n",
        "print(\"Minimum distance between two points:\", min_distance)"
      ],
      "metadata": {
        "colab": {
          "base_uri": "https://localhost:8080/"
        },
        "id": "e2SQMzaIjXJ3",
        "outputId": "29f9ebd0-4b64-4afc-ee7c-6ecae9ae32cd"
      },
      "execution_count": 4,
      "outputs": [
        {
          "output_type": "stream",
          "name": "stdout",
          "text": [
            "Minimum distance between two points: 3.0\n"
          ]
        }
      ]
    }
  ]
}