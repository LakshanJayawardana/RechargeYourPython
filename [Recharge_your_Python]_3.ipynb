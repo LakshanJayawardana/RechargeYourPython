{
  "nbformat": 4,
  "nbformat_minor": 0,
  "metadata": {
    "colab": {
      "provenance": [],
      "authorship_tag": "ABX9TyM0m+hQt7h7MU4qA3nqHctY",
      "include_colab_link": true
    },
    "kernelspec": {
      "name": "python3",
      "display_name": "Python 3"
    },
    "language_info": {
      "name": "python"
    }
  },
  "cells": [
    {
      "cell_type": "markdown",
      "metadata": {
        "id": "view-in-github",
        "colab_type": "text"
      },
      "source": [
        "<a href=\"https://colab.research.google.com/github/LakshanJayawardana/RechargeYourPython/blob/Recharge-your-Python%5D-%233/%5BRecharge_your_Python%5D_3.ipynb\" target=\"_parent\"><img src=\"https://colab.research.google.com/assets/colab-badge.svg\" alt=\"Open In Colab\"/></a>"
      ]
    },
    {
      "cell_type": "code",
      "execution_count": null,
      "metadata": {
        "id": "TVYh-H6cTmbQ"
      },
      "outputs": [],
      "source": [
        "xy_coordinates = [(-27, -12), (84, 5), (-24, -40), (77, 27), (-40, 47), (74, -55), (-54, 25), \n",
        "(1, 54), (-2, 83), (39, 52), (85, 28), (-63, 89), (-36, 26), (79, -40), (16, 42), (73, -85), \n",
        "(-23, -31), (35, -44), (93, 11), (-55, -29), (80, 41), (-71, 7), (29, 43), (-66, -55), (-46, 77), \n",
        "(-34, -73), (-77, -16), (23, -50), (42, -62), (59, 44), (84, 96), (15, -56), (-61, 49), (34, -15), \n",
        "(-41, 32), (46, -26), (-10, 51), (-7, -35), (91, 58), (-70, 95), (-68, -3), (94, 70), (-67, 98), (-29, 84), \n",
        "(-68, -60), (7, -69), (77, -85), (69, -51), (-3, 43), (95, -39), (-13, -16), (32, -60), (-15, -26), (4, -45), \n",
        "(61, -6), (-76, -68), (-53, 10), (90, 38), (-17, -65), (-5, 10), (13, -42), (36, 36), (-25, 5), (72, 37), \n",
        "(53, 32), (68, 85), (-64, -47), (-18, -4), (45, -11), (-2, -25), (10, 42), (88, 70), (71, 49), (-37, -44), \n",
        "(-77, 42), (73, 91), (-70, -72), (51, 93), (99, 37), (44, -29), (-19, -44), (-40, 7), (-18, 76), (44, -41), \n",
        "(41, -43), (57, -33), (94, 73), (83, 45), (-56, -17), (2, 57), (16, 13), (8, -30), (92, 1), (54, -55), \n",
        "(12, -84), (-33, 93), (99, -54), (-22, 0), (26, 0), (-62, 73)]"
      ]
    },
    {
      "cell_type": "markdown",
      "source": [
        "1. What is the average value of the second coordinate \n",
        "in xy_coordinates?\n",
        "2. How many points in xy_coordinates are more than 100 units away from the origin (center of coordinates)?\n",
        "3. What is the minimum distance between two points in the xy_coordinates list?"
      ],
      "metadata": {
        "id": "5wDfR7Th7iyy"
      }
    },
    {
      "cell_type": "code",
      "source": [
        "len(xy_coordinates)"
      ],
      "metadata": {
        "colab": {
          "base_uri": "https://localhost:8080/"
        },
        "id": "viHBtow-mL2d",
        "outputId": "97dffa07-aacf-40ae-efc7-4b3fe2f7b876"
      },
      "execution_count": null,
      "outputs": [
        {
          "output_type": "execute_result",
          "data": {
            "text/plain": [
              "100"
            ]
          },
          "metadata": {},
          "execution_count": 3
        }
      ]
    },
    {
      "cell_type": "markdown",
      "source": [
        "# Question1"
      ],
      "metadata": {
        "id": "x52JzwTIuAdA"
      }
    },
    {
      "cell_type": "code",
      "source": [
        "print(sum(tup[1] for tup in xy_coordinates)/len(xy_coordinates))"
      ],
      "metadata": {
        "colab": {
          "base_uri": "https://localhost:8080/"
        },
        "id": "IM6Avh1eVx5k",
        "outputId": "225f8efe-aa6a-456c-a963-911501c70486"
      },
      "execution_count": null,
      "outputs": [
        {
          "output_type": "stream",
          "name": "stdout",
          "text": [
            "5.0\n"
          ]
        }
      ]
    },
    {
      "cell_type": "markdown",
      "source": [
        "# Question 2"
      ],
      "metadata": {
        "id": "aREcRXtXuEkF"
      }
    },
    {
      "cell_type": "code",
      "source": [
        "import math\n",
        "distances = []\n",
        "count=0\n",
        "origin = (0,0)\n",
        "for tup1 in xy_coordinates:\n",
        "  distance = math.sqrt( ((origin[0]-tup1[0])**2)+((origin[1]-tup1[1])**2) )\n",
        "  distances.append(distance)\n",
        "\n",
        "for i in distances:\n",
        "  if i > 100:\n",
        "    count+=1\n",
        "print(count)"
      ],
      "metadata": {
        "colab": {
          "base_uri": "https://localhost:8080/"
        },
        "id": "2QEV3bt_bnab",
        "outputId": "f5423dc7-b428-4bcd-f7b7-e38cc3e4f630"
      },
      "execution_count": null,
      "outputs": [
        {
          "output_type": "stream",
          "name": "stdout",
          "text": [
            "18\n"
          ]
        }
      ]
    },
    {
      "cell_type": "markdown",
      "source": [
        "# Question3"
      ],
      "metadata": {
        "id": "aXFUYeGfuPr9"
      }
    },
    {
      "cell_type": "code",
      "source": [
        "from itertools import combinations\n",
        "distances = []\n",
        "a = combinations(xy_coordinates,2)\n",
        "for data in a:\n",
        "  distance = math.sqrt((data[1][0] - data[0][0])**2 + (data[1][1] - data[0][1])**2)\n",
        "  distances.append(distance)\n",
        "print(min(distances))"
      ],
      "metadata": {
        "colab": {
          "base_uri": "https://localhost:8080/"
        },
        "id": "LY5en4kEvlJb",
        "outputId": "506c39a3-4128-470a-b85e-4391434b5ab3"
      },
      "execution_count": null,
      "outputs": [
        {
          "output_type": "stream",
          "name": "stdout",
          "text": [
            "3.0\n"
          ]
        }
      ]
    },
    {
      "cell_type": "code",
      "source": [
        "print(max(tup[0] for tup in xy_coordinates))"
      ],
      "metadata": {
        "id": "oPBEK9Yl6RIE",
        "colab": {
          "base_uri": "https://localhost:8080/"
        },
        "outputId": "7cdd9d09-f1c9-41de-a977-0cc83e172205"
      },
      "execution_count": null,
      "outputs": [
        {
          "output_type": "stream",
          "name": "stdout",
          "text": [
            "99\n"
          ]
        }
      ]
    },
    {
      "cell_type": "code",
      "source": [],
      "metadata": {
        "id": "BKoyRpePtGlk"
      },
      "execution_count": null,
      "outputs": []
    },
    {
      "cell_type": "markdown",
      "source": [],
      "metadata": {
        "id": "DIrhHqqBtgDv"
      }
    }
  ]
}