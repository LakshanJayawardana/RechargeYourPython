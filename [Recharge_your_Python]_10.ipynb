{
  "nbformat": 4,
  "nbformat_minor": 0,
  "metadata": {
    "colab": {
      "provenance": [],
      "authorship_tag": "ABX9TyPYo29rCK0VlFD64nNAbi5Z",
      "include_colab_link": true
    },
    "kernelspec": {
      "name": "python3",
      "display_name": "Python 3"
    },
    "language_info": {
      "name": "python"
    }
  },
  "cells": [
    {
      "cell_type": "markdown",
      "metadata": {
        "id": "view-in-github",
        "colab_type": "text"
      },
      "source": [
        "<a href=\"https://colab.research.google.com/github/LakshanJayawardana/RechargeYourPython/blob/Recharge-your-Python%5D-%2310/%5BRecharge_your_Python%5D_10.ipynb\" target=\"_parent\"><img src=\"https://colab.research.google.com/assets/colab-badge.svg\" alt=\"Open In Colab\"/></a>"
      ]
    },
    {
      "cell_type": "code",
      "source": [
        "import itertools\n",
        "perms = itertools.product(\"ABC\", repeat=5)\n",
        "filtered_perms = [x for x in perms if x[0] != \"C\"]\n",
        "words = []\n",
        "for p in filtered_perms:\n",
        "    words.append(\"\".join(p))\n",
        "print(words)"
      ],
      "metadata": {
        "colab": {
          "base_uri": "https://localhost:8080/"
        },
        "id": "mgBjHxCFrbiC",
        "outputId": "f8488ab4-3615-4940-96d7-1ba9e831b2dc"
      },
      "execution_count": null,
      "outputs": [
        {
          "output_type": "stream",
          "name": "stdout",
          "text": [
            "['AAAAA', 'AAAAB', 'AAAAC', 'AAABA', 'AAABB', 'AAABC', 'AAACA', 'AAACB', 'AAACC', 'AABAA', 'AABAB', 'AABAC', 'AABBA', 'AABBB', 'AABBC', 'AABCA', 'AABCB', 'AABCC', 'AACAA', 'AACAB', 'AACAC', 'AACBA', 'AACBB', 'AACBC', 'AACCA', 'AACCB', 'AACCC', 'ABAAA', 'ABAAB', 'ABAAC', 'ABABA', 'ABABB', 'ABABC', 'ABACA', 'ABACB', 'ABACC', 'ABBAA', 'ABBAB', 'ABBAC', 'ABBBA', 'ABBBB', 'ABBBC', 'ABBCA', 'ABBCB', 'ABBCC', 'ABCAA', 'ABCAB', 'ABCAC', 'ABCBA', 'ABCBB', 'ABCBC', 'ABCCA', 'ABCCB', 'ABCCC', 'ACAAA', 'ACAAB', 'ACAAC', 'ACABA', 'ACABB', 'ACABC', 'ACACA', 'ACACB', 'ACACC', 'ACBAA', 'ACBAB', 'ACBAC', 'ACBBA', 'ACBBB', 'ACBBC', 'ACBCA', 'ACBCB', 'ACBCC', 'ACCAA', 'ACCAB', 'ACCAC', 'ACCBA', 'ACCBB', 'ACCBC', 'ACCCA', 'ACCCB', 'ACCCC', 'BAAAA', 'BAAAB', 'BAAAC', 'BAABA', 'BAABB', 'BAABC', 'BAACA', 'BAACB', 'BAACC', 'BABAA', 'BABAB', 'BABAC', 'BABBA', 'BABBB', 'BABBC', 'BABCA', 'BABCB', 'BABCC', 'BACAA', 'BACAB', 'BACAC', 'BACBA', 'BACBB', 'BACBC', 'BACCA', 'BACCB', 'BACCC', 'BBAAA', 'BBAAB', 'BBAAC', 'BBABA', 'BBABB', 'BBABC', 'BBACA', 'BBACB', 'BBACC', 'BBBAA', 'BBBAB', 'BBBAC', 'BBBBA', 'BBBBB', 'BBBBC', 'BBBCA', 'BBBCB', 'BBBCC', 'BBCAA', 'BBCAB', 'BBCAC', 'BBCBA', 'BBCBB', 'BBCBC', 'BBCCA', 'BBCCB', 'BBCCC', 'BCAAA', 'BCAAB', 'BCAAC', 'BCABA', 'BCABB', 'BCABC', 'BCACA', 'BCACB', 'BCACC', 'BCBAA', 'BCBAB', 'BCBAC', 'BCBBA', 'BCBBB', 'BCBBC', 'BCBCA', 'BCBCB', 'BCBCC', 'BCCAA', 'BCCAB', 'BCCAC', 'BCCBA', 'BCCBB', 'BCCBC', 'BCCCA', 'BCCCB', 'BCCCC']\n"
          ]
        }
      ]
    },
    {
      "cell_type": "markdown",
      "source": [
        "# task 1"
      ],
      "metadata": {
        "id": "gagFbqqxHIpo"
      }
    },
    {
      "cell_type": "code",
      "source": [
        "print(f\"How many strings are in this set?: {len(words)}\")"
      ],
      "metadata": {
        "id": "YmdDa23jZNLc",
        "colab": {
          "base_uri": "https://localhost:8080/"
        },
        "outputId": "32bbfac5-066d-4205-8509-d4016ca83225"
      },
      "execution_count": null,
      "outputs": [
        {
          "output_type": "stream",
          "name": "stdout",
          "text": [
            "How many strings are in this set?: 162\n"
          ]
        }
      ]
    },
    {
      "cell_type": "markdown",
      "source": [
        "# Task 2"
      ],
      "metadata": {
        "id": "7sDGIKv6HZIH"
      }
    },
    {
      "cell_type": "code",
      "source": [
        "task2 = [x for x in words if x[0] == \"A\" and x[-1] == \"C\"]\n",
        "print(f\"Starts with A and end with C: {len(task2)}\")"
      ],
      "metadata": {
        "colab": {
          "base_uri": "https://localhost:8080/"
        },
        "id": "5dMasf2RHXxp",
        "outputId": "4089445f-c2f6-4565-cd60-1a274ecfbdd3"
      },
      "execution_count": null,
      "outputs": [
        {
          "output_type": "stream",
          "name": "stdout",
          "text": [
            "Starts with A and end with C: 27\n"
          ]
        }
      ]
    },
    {
      "cell_type": "markdown",
      "source": [
        "# Task 3"
      ],
      "metadata": {
        "id": "GTcq6iDEH_Rd"
      }
    },
    {
      "cell_type": "code",
      "source": [
        "palindromes = [word for word in words if word == word[::-1]]\n",
        "print(f\"palindromes : {len(palindromes)}\")"
      ],
      "metadata": {
        "colab": {
          "base_uri": "https://localhost:8080/"
        },
        "id": "XaonV-x2H1sV",
        "outputId": "bfd4569c-b065-4f8a-b33e-602e07a16ea4"
      },
      "execution_count": null,
      "outputs": [
        {
          "output_type": "stream",
          "name": "stdout",
          "text": [
            "palindromes : 18\n"
          ]
        }
      ]
    },
    {
      "cell_type": "code",
      "source": [
        "task2 = [x for x in words if \"B\" not in x]\n",
        "print(f\"B not contain: {len(task2)}\")"
      ],
      "metadata": {
        "id": "OwaY4GQ0IbWl",
        "colab": {
          "base_uri": "https://localhost:8080/"
        },
        "outputId": "71d4f2b4-6ad2-4180-fe0e-80d34e164757"
      },
      "execution_count": null,
      "outputs": [
        {
          "output_type": "stream",
          "name": "stdout",
          "text": [
            "B not contain: 16\n"
          ]
        }
      ]
    },
    {
      "cell_type": "code",
      "source": [],
      "metadata": {
        "id": "WU76w9xwFs8a"
      },
      "execution_count": null,
      "outputs": []
    }
  ]
}